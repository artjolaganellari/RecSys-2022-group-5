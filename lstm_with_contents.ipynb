{
 "cells": [
  {
   "cell_type": "markdown",
   "id": "81804898",
   "metadata": {},
   "source": [
    "# An LSTM based approach, enriched with contents\n",
    "RecSys Challenge 2022 - Group 5"
   ]
  },
  {
   "cell_type": "markdown",
   "id": "f8982cc8",
   "metadata": {},
   "source": [
    "## General Data Preparation"
   ]
  },
  {
   "cell_type": "markdown",
   "id": "0e51698e",
   "metadata": {},
   "source": [
    "Let us read in the different datasets."
   ]
  },
  {
   "cell_type": "code",
   "execution_count": 1,
   "id": "a9967c3d",
   "metadata": {},
   "outputs": [],
   "source": [
    "import pandas as pd\n",
    "import os\n",
    "import numpy as np"
   ]
  },
  {
   "cell_type": "code",
   "execution_count": 2,
   "id": "946ca236",
   "metadata": {},
   "outputs": [],
   "source": [
    "base_path_train = \"~/shared/data/project/training\"\n",
    "\n",
    "items_df = pd.read_csv(os.path.join(base_path_train, \"item_features.csv\"))\n",
    "purchase_df = pd.read_csv(os.path.join(base_path_train, \"train_purchases.csv\"))\n",
    "session_df = pd.read_csv(os.path.join(base_path_train, \"train_sessions.csv\"))"
   ]
  },
  {
   "cell_type": "code",
   "execution_count": 3,
   "id": "6c048061",
   "metadata": {
    "scrolled": true
   },
   "outputs": [
    {
     "data": {
      "text/html": [
       "<div>\n",
       "<style scoped>\n",
       "    .dataframe tbody tr th:only-of-type {\n",
       "        vertical-align: middle;\n",
       "    }\n",
       "\n",
       "    .dataframe tbody tr th {\n",
       "        vertical-align: top;\n",
       "    }\n",
       "\n",
       "    .dataframe thead th {\n",
       "        text-align: right;\n",
       "    }\n",
       "</style>\n",
       "<table border=\"1\" class=\"dataframe\">\n",
       "  <thead>\n",
       "    <tr style=\"text-align: right;\">\n",
       "      <th></th>\n",
       "      <th>item_id</th>\n",
       "      <th>feature_category_id</th>\n",
       "      <th>feature_value_id</th>\n",
       "    </tr>\n",
       "  </thead>\n",
       "  <tbody>\n",
       "    <tr>\n",
       "      <th>0</th>\n",
       "      <td>2</td>\n",
       "      <td>56</td>\n",
       "      <td>365</td>\n",
       "    </tr>\n",
       "    <tr>\n",
       "      <th>1</th>\n",
       "      <td>2</td>\n",
       "      <td>62</td>\n",
       "      <td>801</td>\n",
       "    </tr>\n",
       "    <tr>\n",
       "      <th>2</th>\n",
       "      <td>2</td>\n",
       "      <td>68</td>\n",
       "      <td>351</td>\n",
       "    </tr>\n",
       "    <tr>\n",
       "      <th>3</th>\n",
       "      <td>2</td>\n",
       "      <td>33</td>\n",
       "      <td>802</td>\n",
       "    </tr>\n",
       "    <tr>\n",
       "      <th>4</th>\n",
       "      <td>2</td>\n",
       "      <td>72</td>\n",
       "      <td>75</td>\n",
       "    </tr>\n",
       "    <tr>\n",
       "      <th>...</th>\n",
       "      <td>...</td>\n",
       "      <td>...</td>\n",
       "      <td>...</td>\n",
       "    </tr>\n",
       "    <tr>\n",
       "      <th>471746</th>\n",
       "      <td>28143</td>\n",
       "      <td>68</td>\n",
       "      <td>351</td>\n",
       "    </tr>\n",
       "    <tr>\n",
       "      <th>471747</th>\n",
       "      <td>28143</td>\n",
       "      <td>55</td>\n",
       "      <td>390</td>\n",
       "    </tr>\n",
       "    <tr>\n",
       "      <th>471748</th>\n",
       "      <td>28143</td>\n",
       "      <td>11</td>\n",
       "      <td>109</td>\n",
       "    </tr>\n",
       "    <tr>\n",
       "      <th>471749</th>\n",
       "      <td>28143</td>\n",
       "      <td>73</td>\n",
       "      <td>91</td>\n",
       "    </tr>\n",
       "    <tr>\n",
       "      <th>471750</th>\n",
       "      <td>28143</td>\n",
       "      <td>47</td>\n",
       "      <td>549</td>\n",
       "    </tr>\n",
       "  </tbody>\n",
       "</table>\n",
       "<p>471751 rows × 3 columns</p>\n",
       "</div>"
      ],
      "text/plain": [
       "        item_id  feature_category_id  feature_value_id\n",
       "0             2                   56               365\n",
       "1             2                   62               801\n",
       "2             2                   68               351\n",
       "3             2                   33               802\n",
       "4             2                   72                75\n",
       "...         ...                  ...               ...\n",
       "471746    28143                   68               351\n",
       "471747    28143                   55               390\n",
       "471748    28143                   11               109\n",
       "471749    28143                   73                91\n",
       "471750    28143                   47               549\n",
       "\n",
       "[471751 rows x 3 columns]"
      ]
     },
     "execution_count": 3,
     "metadata": {},
     "output_type": "execute_result"
    }
   ],
   "source": [
    "items_df"
   ]
  },
  {
   "cell_type": "code",
   "execution_count": 4,
   "id": "aea96652",
   "metadata": {},
   "outputs": [
    {
     "data": {
      "text/plain": [
       "23691"
      ]
     },
     "execution_count": 4,
     "metadata": {},
     "output_type": "execute_result"
    }
   ],
   "source": [
    "items_df.item_id.nunique()"
   ]
  },
  {
   "cell_type": "code",
   "execution_count": 5,
   "id": "efeacb33",
   "metadata": {},
   "outputs": [
    {
     "data": {
      "text/html": [
       "<div>\n",
       "<style scoped>\n",
       "    .dataframe tbody tr th:only-of-type {\n",
       "        vertical-align: middle;\n",
       "    }\n",
       "\n",
       "    .dataframe tbody tr th {\n",
       "        vertical-align: top;\n",
       "    }\n",
       "\n",
       "    .dataframe thead th {\n",
       "        text-align: right;\n",
       "    }\n",
       "</style>\n",
       "<table border=\"1\" class=\"dataframe\">\n",
       "  <thead>\n",
       "    <tr style=\"text-align: right;\">\n",
       "      <th></th>\n",
       "      <th>session_id</th>\n",
       "      <th>item_id</th>\n",
       "      <th>date</th>\n",
       "    </tr>\n",
       "  </thead>\n",
       "  <tbody>\n",
       "    <tr>\n",
       "      <th>0</th>\n",
       "      <td>3</td>\n",
       "      <td>15085</td>\n",
       "      <td>2020-12-18 21:26:47.986</td>\n",
       "    </tr>\n",
       "    <tr>\n",
       "      <th>1</th>\n",
       "      <td>13</td>\n",
       "      <td>18626</td>\n",
       "      <td>2020-03-13 19:36:15.507</td>\n",
       "    </tr>\n",
       "    <tr>\n",
       "      <th>2</th>\n",
       "      <td>18</td>\n",
       "      <td>24911</td>\n",
       "      <td>2020-08-26 19:20:32.049</td>\n",
       "    </tr>\n",
       "    <tr>\n",
       "      <th>3</th>\n",
       "      <td>19</td>\n",
       "      <td>12534</td>\n",
       "      <td>2020-11-02 17:16:45.92</td>\n",
       "    </tr>\n",
       "    <tr>\n",
       "      <th>4</th>\n",
       "      <td>24</td>\n",
       "      <td>13226</td>\n",
       "      <td>2020-02-26 18:27:44.114</td>\n",
       "    </tr>\n",
       "    <tr>\n",
       "      <th>...</th>\n",
       "      <td>...</td>\n",
       "      <td>...</td>\n",
       "      <td>...</td>\n",
       "    </tr>\n",
       "    <tr>\n",
       "      <th>999995</th>\n",
       "      <td>4439986</td>\n",
       "      <td>2915</td>\n",
       "      <td>2021-05-13 11:56:37.464</td>\n",
       "    </tr>\n",
       "    <tr>\n",
       "      <th>999996</th>\n",
       "      <td>4439990</td>\n",
       "      <td>8786</td>\n",
       "      <td>2020-08-22 14:28:22.382</td>\n",
       "    </tr>\n",
       "    <tr>\n",
       "      <th>999997</th>\n",
       "      <td>4439994</td>\n",
       "      <td>21630</td>\n",
       "      <td>2020-11-27 20:10:28.961</td>\n",
       "    </tr>\n",
       "    <tr>\n",
       "      <th>999998</th>\n",
       "      <td>4439999</td>\n",
       "      <td>16962</td>\n",
       "      <td>2020-11-27 11:01:41.356</td>\n",
       "    </tr>\n",
       "    <tr>\n",
       "      <th>999999</th>\n",
       "      <td>4440001</td>\n",
       "      <td>16631</td>\n",
       "      <td>2020-10-30 23:46:05.218</td>\n",
       "    </tr>\n",
       "  </tbody>\n",
       "</table>\n",
       "<p>1000000 rows × 3 columns</p>\n",
       "</div>"
      ],
      "text/plain": [
       "        session_id  item_id                     date\n",
       "0                3    15085  2020-12-18 21:26:47.986\n",
       "1               13    18626  2020-03-13 19:36:15.507\n",
       "2               18    24911  2020-08-26 19:20:32.049\n",
       "3               19    12534   2020-11-02 17:16:45.92\n",
       "4               24    13226  2020-02-26 18:27:44.114\n",
       "...            ...      ...                      ...\n",
       "999995     4439986     2915  2021-05-13 11:56:37.464\n",
       "999996     4439990     8786  2020-08-22 14:28:22.382\n",
       "999997     4439994    21630  2020-11-27 20:10:28.961\n",
       "999998     4439999    16962  2020-11-27 11:01:41.356\n",
       "999999     4440001    16631  2020-10-30 23:46:05.218\n",
       "\n",
       "[1000000 rows x 3 columns]"
      ]
     },
     "execution_count": 5,
     "metadata": {},
     "output_type": "execute_result"
    }
   ],
   "source": [
    "purchase_df"
   ]
  },
  {
   "cell_type": "code",
   "execution_count": 6,
   "id": "22f0dcc4",
   "metadata": {},
   "outputs": [
    {
     "data": {
      "text/html": [
       "<div>\n",
       "<style scoped>\n",
       "    .dataframe tbody tr th:only-of-type {\n",
       "        vertical-align: middle;\n",
       "    }\n",
       "\n",
       "    .dataframe tbody tr th {\n",
       "        vertical-align: top;\n",
       "    }\n",
       "\n",
       "    .dataframe thead th {\n",
       "        text-align: right;\n",
       "    }\n",
       "</style>\n",
       "<table border=\"1\" class=\"dataframe\">\n",
       "  <thead>\n",
       "    <tr style=\"text-align: right;\">\n",
       "      <th></th>\n",
       "      <th>session_id</th>\n",
       "      <th>item_id</th>\n",
       "      <th>date</th>\n",
       "    </tr>\n",
       "  </thead>\n",
       "  <tbody>\n",
       "    <tr>\n",
       "      <th>0</th>\n",
       "      <td>3</td>\n",
       "      <td>9655</td>\n",
       "      <td>2020-12-18 21:25:00.373</td>\n",
       "    </tr>\n",
       "    <tr>\n",
       "      <th>1</th>\n",
       "      <td>3</td>\n",
       "      <td>9655</td>\n",
       "      <td>2020-12-18 21:19:48.093</td>\n",
       "    </tr>\n",
       "    <tr>\n",
       "      <th>2</th>\n",
       "      <td>13</td>\n",
       "      <td>15654</td>\n",
       "      <td>2020-03-13 19:35:27.136</td>\n",
       "    </tr>\n",
       "    <tr>\n",
       "      <th>3</th>\n",
       "      <td>18</td>\n",
       "      <td>18316</td>\n",
       "      <td>2020-08-26 19:18:30.833</td>\n",
       "    </tr>\n",
       "    <tr>\n",
       "      <th>4</th>\n",
       "      <td>18</td>\n",
       "      <td>2507</td>\n",
       "      <td>2020-08-26 19:16:31.211</td>\n",
       "    </tr>\n",
       "    <tr>\n",
       "      <th>...</th>\n",
       "      <td>...</td>\n",
       "      <td>...</td>\n",
       "      <td>...</td>\n",
       "    </tr>\n",
       "    <tr>\n",
       "      <th>4743815</th>\n",
       "      <td>4440001</td>\n",
       "      <td>20409</td>\n",
       "      <td>2020-10-30 23:37:20.658</td>\n",
       "    </tr>\n",
       "    <tr>\n",
       "      <th>4743816</th>\n",
       "      <td>4440001</td>\n",
       "      <td>14155</td>\n",
       "      <td>2020-10-30 23:31:56.607</td>\n",
       "    </tr>\n",
       "    <tr>\n",
       "      <th>4743817</th>\n",
       "      <td>4440001</td>\n",
       "      <td>14303</td>\n",
       "      <td>2020-10-30 23:36:17.934</td>\n",
       "    </tr>\n",
       "    <tr>\n",
       "      <th>4743818</th>\n",
       "      <td>4440001</td>\n",
       "      <td>27852</td>\n",
       "      <td>2020-10-30 23:39:55.186</td>\n",
       "    </tr>\n",
       "    <tr>\n",
       "      <th>4743819</th>\n",
       "      <td>4440001</td>\n",
       "      <td>305</td>\n",
       "      <td>2020-10-30 23:27:37.873</td>\n",
       "    </tr>\n",
       "  </tbody>\n",
       "</table>\n",
       "<p>4743820 rows × 3 columns</p>\n",
       "</div>"
      ],
      "text/plain": [
       "         session_id  item_id                     date\n",
       "0                 3     9655  2020-12-18 21:25:00.373\n",
       "1                 3     9655  2020-12-18 21:19:48.093\n",
       "2                13    15654  2020-03-13 19:35:27.136\n",
       "3                18    18316  2020-08-26 19:18:30.833\n",
       "4                18     2507  2020-08-26 19:16:31.211\n",
       "...             ...      ...                      ...\n",
       "4743815     4440001    20409  2020-10-30 23:37:20.658\n",
       "4743816     4440001    14155  2020-10-30 23:31:56.607\n",
       "4743817     4440001    14303  2020-10-30 23:36:17.934\n",
       "4743818     4440001    27852  2020-10-30 23:39:55.186\n",
       "4743819     4440001      305  2020-10-30 23:27:37.873\n",
       "\n",
       "[4743820 rows x 3 columns]"
      ]
     },
     "execution_count": 6,
     "metadata": {},
     "output_type": "execute_result"
    }
   ],
   "source": [
    "session_df"
   ]
  },
  {
   "cell_type": "markdown",
   "id": "5413fd9c",
   "metadata": {},
   "source": [
    "Now we combine the views inside a session and the purchases of this session in one dataframe, with the column `was_bought` indicating whether the item was only viewed or bought."
   ]
  },
  {
   "cell_type": "code",
   "execution_count": 7,
   "id": "37c81668",
   "metadata": {
    "scrolled": true
   },
   "outputs": [
    {
     "data": {
      "text/html": [
       "<div>\n",
       "<style scoped>\n",
       "    .dataframe tbody tr th:only-of-type {\n",
       "        vertical-align: middle;\n",
       "    }\n",
       "\n",
       "    .dataframe tbody tr th {\n",
       "        vertical-align: top;\n",
       "    }\n",
       "\n",
       "    .dataframe thead th {\n",
       "        text-align: right;\n",
       "    }\n",
       "</style>\n",
       "<table border=\"1\" class=\"dataframe\">\n",
       "  <thead>\n",
       "    <tr style=\"text-align: right;\">\n",
       "      <th></th>\n",
       "      <th>session_id</th>\n",
       "      <th>item_id</th>\n",
       "      <th>date</th>\n",
       "      <th>was_bought</th>\n",
       "    </tr>\n",
       "  </thead>\n",
       "  <tbody>\n",
       "    <tr>\n",
       "      <th>1</th>\n",
       "      <td>3</td>\n",
       "      <td>9655</td>\n",
       "      <td>2020-12-18 21:19:48.093</td>\n",
       "      <td>False</td>\n",
       "    </tr>\n",
       "    <tr>\n",
       "      <th>0</th>\n",
       "      <td>3</td>\n",
       "      <td>9655</td>\n",
       "      <td>2020-12-18 21:25:00.373</td>\n",
       "      <td>False</td>\n",
       "    </tr>\n",
       "    <tr>\n",
       "      <th>0</th>\n",
       "      <td>3</td>\n",
       "      <td>15085</td>\n",
       "      <td>2020-12-18 21:26:47.986</td>\n",
       "      <td>True</td>\n",
       "    </tr>\n",
       "    <tr>\n",
       "      <th>2</th>\n",
       "      <td>13</td>\n",
       "      <td>15654</td>\n",
       "      <td>2020-03-13 19:35:27.136</td>\n",
       "      <td>False</td>\n",
       "    </tr>\n",
       "    <tr>\n",
       "      <th>1</th>\n",
       "      <td>13</td>\n",
       "      <td>18626</td>\n",
       "      <td>2020-03-13 19:36:15.507</td>\n",
       "      <td>True</td>\n",
       "    </tr>\n",
       "    <tr>\n",
       "      <th>...</th>\n",
       "      <td>...</td>\n",
       "      <td>...</td>\n",
       "      <td>...</td>\n",
       "      <td>...</td>\n",
       "    </tr>\n",
       "    <tr>\n",
       "      <th>4743804</th>\n",
       "      <td>4440001</td>\n",
       "      <td>19539</td>\n",
       "      <td>2020-10-30 23:37:09.46</td>\n",
       "      <td>False</td>\n",
       "    </tr>\n",
       "    <tr>\n",
       "      <th>4743815</th>\n",
       "      <td>4440001</td>\n",
       "      <td>20409</td>\n",
       "      <td>2020-10-30 23:37:20.658</td>\n",
       "      <td>False</td>\n",
       "    </tr>\n",
       "    <tr>\n",
       "      <th>4743818</th>\n",
       "      <td>4440001</td>\n",
       "      <td>27852</td>\n",
       "      <td>2020-10-30 23:39:55.186</td>\n",
       "      <td>False</td>\n",
       "    </tr>\n",
       "    <tr>\n",
       "      <th>4743806</th>\n",
       "      <td>4440001</td>\n",
       "      <td>20449</td>\n",
       "      <td>2020-10-30 23:40:28.149</td>\n",
       "      <td>False</td>\n",
       "    </tr>\n",
       "    <tr>\n",
       "      <th>999999</th>\n",
       "      <td>4440001</td>\n",
       "      <td>16631</td>\n",
       "      <td>2020-10-30 23:46:05.218</td>\n",
       "      <td>True</td>\n",
       "    </tr>\n",
       "  </tbody>\n",
       "</table>\n",
       "<p>5743820 rows × 4 columns</p>\n",
       "</div>"
      ],
      "text/plain": [
       "         session_id  item_id                     date  was_bought\n",
       "1                 3     9655  2020-12-18 21:19:48.093       False\n",
       "0                 3     9655  2020-12-18 21:25:00.373       False\n",
       "0                 3    15085  2020-12-18 21:26:47.986        True\n",
       "2                13    15654  2020-03-13 19:35:27.136       False\n",
       "1                13    18626  2020-03-13 19:36:15.507        True\n",
       "...             ...      ...                      ...         ...\n",
       "4743804     4440001    19539   2020-10-30 23:37:09.46       False\n",
       "4743815     4440001    20409  2020-10-30 23:37:20.658       False\n",
       "4743818     4440001    27852  2020-10-30 23:39:55.186       False\n",
       "4743806     4440001    20449  2020-10-30 23:40:28.149       False\n",
       "999999      4440001    16631  2020-10-30 23:46:05.218        True\n",
       "\n",
       "[5743820 rows x 4 columns]"
      ]
     },
     "execution_count": 7,
     "metadata": {},
     "output_type": "execute_result"
    }
   ],
   "source": [
    "purchase_df_processed = purchase_df.copy()\n",
    "purchase_df_processed[\"was_bought\"] = True\n",
    "\n",
    "session_df_processed = session_df.copy()\n",
    "session_df_processed[\"was_bought\"] = False\n",
    "df_processed = pd.concat([purchase_df_processed, session_df_processed]).sort_values([\"session_id\", \"date\"])\n",
    "df_processed"
   ]
  },
  {
   "cell_type": "markdown",
   "id": "7c231f69",
   "metadata": {},
   "source": [
    "Now we denormalize the item features table, to have a more handy representation of the item features"
   ]
  },
  {
   "cell_type": "code",
   "execution_count": 8,
   "id": "50c8e226",
   "metadata": {},
   "outputs": [
    {
     "data": {
      "text/html": [
       "<div>\n",
       "<style scoped>\n",
       "    .dataframe tbody tr th:only-of-type {\n",
       "        vertical-align: middle;\n",
       "    }\n",
       "\n",
       "    .dataframe tbody tr th {\n",
       "        vertical-align: top;\n",
       "    }\n",
       "\n",
       "    .dataframe thead th {\n",
       "        text-align: right;\n",
       "    }\n",
       "</style>\n",
       "<table border=\"1\" class=\"dataframe\">\n",
       "  <thead>\n",
       "    <tr style=\"text-align: right;\">\n",
       "      <th></th>\n",
       "      <th>item_id</th>\n",
       "      <th>item_feature_0</th>\n",
       "      <th>item_feature_1</th>\n",
       "      <th>item_feature_2</th>\n",
       "      <th>item_feature_3</th>\n",
       "      <th>item_feature_4</th>\n",
       "      <th>item_feature_5</th>\n",
       "      <th>item_feature_6</th>\n",
       "      <th>item_feature_7</th>\n",
       "      <th>item_feature_8</th>\n",
       "      <th>...</th>\n",
       "      <th>item_feature_63</th>\n",
       "      <th>item_feature_64</th>\n",
       "      <th>item_feature_65</th>\n",
       "      <th>item_feature_66</th>\n",
       "      <th>item_feature_67</th>\n",
       "      <th>item_feature_68</th>\n",
       "      <th>item_feature_69</th>\n",
       "      <th>item_feature_70</th>\n",
       "      <th>item_feature_71</th>\n",
       "      <th>item_feature_72</th>\n",
       "    </tr>\n",
       "    <tr>\n",
       "      <th>index</th>\n",
       "      <th></th>\n",
       "      <th></th>\n",
       "      <th></th>\n",
       "      <th></th>\n",
       "      <th></th>\n",
       "      <th></th>\n",
       "      <th></th>\n",
       "      <th></th>\n",
       "      <th></th>\n",
       "      <th></th>\n",
       "      <th></th>\n",
       "      <th></th>\n",
       "      <th></th>\n",
       "      <th></th>\n",
       "      <th></th>\n",
       "      <th></th>\n",
       "      <th></th>\n",
       "      <th></th>\n",
       "      <th></th>\n",
       "      <th></th>\n",
       "      <th></th>\n",
       "    </tr>\n",
       "  </thead>\n",
       "  <tbody>\n",
       "    <tr>\n",
       "      <th>0</th>\n",
       "      <td>2</td>\n",
       "      <td>NaN</td>\n",
       "      <td>NaN</td>\n",
       "      <td>NaN</td>\n",
       "      <td>NaN</td>\n",
       "      <td>NaN</td>\n",
       "      <td>NaN</td>\n",
       "      <td>394.0</td>\n",
       "      <td>NaN</td>\n",
       "      <td>NaN</td>\n",
       "      <td>...</td>\n",
       "      <td>NaN</td>\n",
       "      <td>NaN</td>\n",
       "      <td>NaN</td>\n",
       "      <td>NaN</td>\n",
       "      <td>351.0</td>\n",
       "      <td>885.0</td>\n",
       "      <td>NaN</td>\n",
       "      <td>NaN</td>\n",
       "      <td>75.0</td>\n",
       "      <td>NaN</td>\n",
       "    </tr>\n",
       "    <tr>\n",
       "      <th>1</th>\n",
       "      <td>3</td>\n",
       "      <td>NaN</td>\n",
       "      <td>NaN</td>\n",
       "      <td>889.0</td>\n",
       "      <td>618.0</td>\n",
       "      <td>605.0</td>\n",
       "      <td>NaN</td>\n",
       "      <td>452.0</td>\n",
       "      <td>NaN</td>\n",
       "      <td>NaN</td>\n",
       "      <td>...</td>\n",
       "      <td>NaN</td>\n",
       "      <td>521.0</td>\n",
       "      <td>NaN</td>\n",
       "      <td>NaN</td>\n",
       "      <td>14.0</td>\n",
       "      <td>592.0</td>\n",
       "      <td>NaN</td>\n",
       "      <td>NaN</td>\n",
       "      <td>75.0</td>\n",
       "      <td>544.0</td>\n",
       "    </tr>\n",
       "    <tr>\n",
       "      <th>2</th>\n",
       "      <td>4</td>\n",
       "      <td>NaN</td>\n",
       "      <td>NaN</td>\n",
       "      <td>793.0</td>\n",
       "      <td>618.0</td>\n",
       "      <td>605.0</td>\n",
       "      <td>NaN</td>\n",
       "      <td>837.0</td>\n",
       "      <td>NaN</td>\n",
       "      <td>NaN</td>\n",
       "      <td>...</td>\n",
       "      <td>NaN</td>\n",
       "      <td>521.0</td>\n",
       "      <td>NaN</td>\n",
       "      <td>NaN</td>\n",
       "      <td>373.0</td>\n",
       "      <td>538.0</td>\n",
       "      <td>NaN</td>\n",
       "      <td>NaN</td>\n",
       "      <td>75.0</td>\n",
       "      <td>544.0</td>\n",
       "    </tr>\n",
       "    <tr>\n",
       "      <th>3</th>\n",
       "      <td>7</td>\n",
       "      <td>NaN</td>\n",
       "      <td>NaN</td>\n",
       "      <td>NaN</td>\n",
       "      <td>NaN</td>\n",
       "      <td>NaN</td>\n",
       "      <td>NaN</td>\n",
       "      <td>536.0</td>\n",
       "      <td>NaN</td>\n",
       "      <td>NaN</td>\n",
       "      <td>...</td>\n",
       "      <td>NaN</td>\n",
       "      <td>NaN</td>\n",
       "      <td>NaN</td>\n",
       "      <td>NaN</td>\n",
       "      <td>739.0</td>\n",
       "      <td>592.0</td>\n",
       "      <td>NaN</td>\n",
       "      <td>NaN</td>\n",
       "      <td>75.0</td>\n",
       "      <td>NaN</td>\n",
       "    </tr>\n",
       "    <tr>\n",
       "      <th>4</th>\n",
       "      <td>8</td>\n",
       "      <td>NaN</td>\n",
       "      <td>NaN</td>\n",
       "      <td>793.0</td>\n",
       "      <td>618.0</td>\n",
       "      <td>605.0</td>\n",
       "      <td>NaN</td>\n",
       "      <td>798.0</td>\n",
       "      <td>NaN</td>\n",
       "      <td>NaN</td>\n",
       "      <td>...</td>\n",
       "      <td>NaN</td>\n",
       "      <td>521.0</td>\n",
       "      <td>NaN</td>\n",
       "      <td>NaN</td>\n",
       "      <td>351.0</td>\n",
       "      <td>592.0</td>\n",
       "      <td>NaN</td>\n",
       "      <td>NaN</td>\n",
       "      <td>75.0</td>\n",
       "      <td>544.0</td>\n",
       "    </tr>\n",
       "    <tr>\n",
       "      <th>...</th>\n",
       "      <td>...</td>\n",
       "      <td>...</td>\n",
       "      <td>...</td>\n",
       "      <td>...</td>\n",
       "      <td>...</td>\n",
       "      <td>...</td>\n",
       "      <td>...</td>\n",
       "      <td>...</td>\n",
       "      <td>...</td>\n",
       "      <td>...</td>\n",
       "      <td>...</td>\n",
       "      <td>...</td>\n",
       "      <td>...</td>\n",
       "      <td>...</td>\n",
       "      <td>...</td>\n",
       "      <td>...</td>\n",
       "      <td>...</td>\n",
       "      <td>...</td>\n",
       "      <td>...</td>\n",
       "      <td>...</td>\n",
       "      <td>...</td>\n",
       "    </tr>\n",
       "    <tr>\n",
       "      <th>23686</th>\n",
       "      <td>28139</td>\n",
       "      <td>NaN</td>\n",
       "      <td>NaN</td>\n",
       "      <td>793.0</td>\n",
       "      <td>618.0</td>\n",
       "      <td>605.0</td>\n",
       "      <td>NaN</td>\n",
       "      <td>798.0</td>\n",
       "      <td>NaN</td>\n",
       "      <td>NaN</td>\n",
       "      <td>...</td>\n",
       "      <td>NaN</td>\n",
       "      <td>521.0</td>\n",
       "      <td>NaN</td>\n",
       "      <td>NaN</td>\n",
       "      <td>106.0</td>\n",
       "      <td>805.0</td>\n",
       "      <td>NaN</td>\n",
       "      <td>NaN</td>\n",
       "      <td>75.0</td>\n",
       "      <td>544.0</td>\n",
       "    </tr>\n",
       "    <tr>\n",
       "      <th>23687</th>\n",
       "      <td>28140</td>\n",
       "      <td>NaN</td>\n",
       "      <td>53.0</td>\n",
       "      <td>NaN</td>\n",
       "      <td>NaN</td>\n",
       "      <td>NaN</td>\n",
       "      <td>NaN</td>\n",
       "      <td>NaN</td>\n",
       "      <td>NaN</td>\n",
       "      <td>NaN</td>\n",
       "      <td>...</td>\n",
       "      <td>80.0</td>\n",
       "      <td>NaN</td>\n",
       "      <td>NaN</td>\n",
       "      <td>349.0</td>\n",
       "      <td>351.0</td>\n",
       "      <td>NaN</td>\n",
       "      <td>NaN</td>\n",
       "      <td>226.0</td>\n",
       "      <td>NaN</td>\n",
       "      <td>544.0</td>\n",
       "    </tr>\n",
       "    <tr>\n",
       "      <th>23688</th>\n",
       "      <td>28141</td>\n",
       "      <td>461.0</td>\n",
       "      <td>NaN</td>\n",
       "      <td>889.0</td>\n",
       "      <td>719.0</td>\n",
       "      <td>605.0</td>\n",
       "      <td>NaN</td>\n",
       "      <td>2.0</td>\n",
       "      <td>NaN</td>\n",
       "      <td>NaN</td>\n",
       "      <td>...</td>\n",
       "      <td>NaN</td>\n",
       "      <td>NaN</td>\n",
       "      <td>NaN</td>\n",
       "      <td>NaN</td>\n",
       "      <td>379.0</td>\n",
       "      <td>499.0</td>\n",
       "      <td>NaN</td>\n",
       "      <td>NaN</td>\n",
       "      <td>75.0</td>\n",
       "      <td>544.0</td>\n",
       "    </tr>\n",
       "    <tr>\n",
       "      <th>23689</th>\n",
       "      <td>28142</td>\n",
       "      <td>NaN</td>\n",
       "      <td>NaN</td>\n",
       "      <td>NaN</td>\n",
       "      <td>NaN</td>\n",
       "      <td>NaN</td>\n",
       "      <td>NaN</td>\n",
       "      <td>619.0</td>\n",
       "      <td>NaN</td>\n",
       "      <td>NaN</td>\n",
       "      <td>...</td>\n",
       "      <td>NaN</td>\n",
       "      <td>610.0</td>\n",
       "      <td>NaN</td>\n",
       "      <td>NaN</td>\n",
       "      <td>895.0</td>\n",
       "      <td>740.0</td>\n",
       "      <td>NaN</td>\n",
       "      <td>NaN</td>\n",
       "      <td>75.0</td>\n",
       "      <td>91.0</td>\n",
       "    </tr>\n",
       "    <tr>\n",
       "      <th>23690</th>\n",
       "      <td>28143</td>\n",
       "      <td>NaN</td>\n",
       "      <td>NaN</td>\n",
       "      <td>NaN</td>\n",
       "      <td>NaN</td>\n",
       "      <td>NaN</td>\n",
       "      <td>NaN</td>\n",
       "      <td>798.0</td>\n",
       "      <td>NaN</td>\n",
       "      <td>NaN</td>\n",
       "      <td>...</td>\n",
       "      <td>NaN</td>\n",
       "      <td>NaN</td>\n",
       "      <td>NaN</td>\n",
       "      <td>NaN</td>\n",
       "      <td>351.0</td>\n",
       "      <td>499.0</td>\n",
       "      <td>NaN</td>\n",
       "      <td>NaN</td>\n",
       "      <td>371.0</td>\n",
       "      <td>91.0</td>\n",
       "    </tr>\n",
       "  </tbody>\n",
       "</table>\n",
       "<p>23691 rows × 74 columns</p>\n",
       "</div>"
      ],
      "text/plain": [
       "       item_id  item_feature_0  item_feature_1  item_feature_2  \\\n",
       "index                                                            \n",
       "0            2             NaN             NaN             NaN   \n",
       "1            3             NaN             NaN           889.0   \n",
       "2            4             NaN             NaN           793.0   \n",
       "3            7             NaN             NaN             NaN   \n",
       "4            8             NaN             NaN           793.0   \n",
       "...        ...             ...             ...             ...   \n",
       "23686    28139             NaN             NaN           793.0   \n",
       "23687    28140             NaN            53.0             NaN   \n",
       "23688    28141           461.0             NaN           889.0   \n",
       "23689    28142             NaN             NaN             NaN   \n",
       "23690    28143             NaN             NaN             NaN   \n",
       "\n",
       "       item_feature_3  item_feature_4  item_feature_5  item_feature_6  \\\n",
       "index                                                                   \n",
       "0                 NaN             NaN             NaN           394.0   \n",
       "1               618.0           605.0             NaN           452.0   \n",
       "2               618.0           605.0             NaN           837.0   \n",
       "3                 NaN             NaN             NaN           536.0   \n",
       "4               618.0           605.0             NaN           798.0   \n",
       "...               ...             ...             ...             ...   \n",
       "23686           618.0           605.0             NaN           798.0   \n",
       "23687             NaN             NaN             NaN             NaN   \n",
       "23688           719.0           605.0             NaN             2.0   \n",
       "23689             NaN             NaN             NaN           619.0   \n",
       "23690             NaN             NaN             NaN           798.0   \n",
       "\n",
       "       item_feature_7  item_feature_8  ...  item_feature_63  item_feature_64  \\\n",
       "index                                  ...                                     \n",
       "0                 NaN             NaN  ...              NaN              NaN   \n",
       "1                 NaN             NaN  ...              NaN            521.0   \n",
       "2                 NaN             NaN  ...              NaN            521.0   \n",
       "3                 NaN             NaN  ...              NaN              NaN   \n",
       "4                 NaN             NaN  ...              NaN            521.0   \n",
       "...               ...             ...  ...              ...              ...   \n",
       "23686             NaN             NaN  ...              NaN            521.0   \n",
       "23687             NaN             NaN  ...             80.0              NaN   \n",
       "23688             NaN             NaN  ...              NaN              NaN   \n",
       "23689             NaN             NaN  ...              NaN            610.0   \n",
       "23690             NaN             NaN  ...              NaN              NaN   \n",
       "\n",
       "       item_feature_65  item_feature_66  item_feature_67  item_feature_68  \\\n",
       "index                                                                       \n",
       "0                  NaN              NaN            351.0            885.0   \n",
       "1                  NaN              NaN             14.0            592.0   \n",
       "2                  NaN              NaN            373.0            538.0   \n",
       "3                  NaN              NaN            739.0            592.0   \n",
       "4                  NaN              NaN            351.0            592.0   \n",
       "...                ...              ...              ...              ...   \n",
       "23686              NaN              NaN            106.0            805.0   \n",
       "23687              NaN            349.0            351.0              NaN   \n",
       "23688              NaN              NaN            379.0            499.0   \n",
       "23689              NaN              NaN            895.0            740.0   \n",
       "23690              NaN              NaN            351.0            499.0   \n",
       "\n",
       "       item_feature_69  item_feature_70  item_feature_71  item_feature_72  \n",
       "index                                                                      \n",
       "0                  NaN              NaN             75.0              NaN  \n",
       "1                  NaN              NaN             75.0            544.0  \n",
       "2                  NaN              NaN             75.0            544.0  \n",
       "3                  NaN              NaN             75.0              NaN  \n",
       "4                  NaN              NaN             75.0            544.0  \n",
       "...                ...              ...              ...              ...  \n",
       "23686              NaN              NaN             75.0            544.0  \n",
       "23687              NaN            226.0              NaN            544.0  \n",
       "23688              NaN              NaN             75.0            544.0  \n",
       "23689              NaN              NaN             75.0             91.0  \n",
       "23690              NaN              NaN            371.0             91.0  \n",
       "\n",
       "[23691 rows x 74 columns]"
      ]
     },
     "execution_count": 8,
     "metadata": {},
     "output_type": "execute_result"
    }
   ],
   "source": [
    "items_processed_df = items_df.pivot_table(values='feature_value_id', index='item_id', columns='feature_category_id').reset_index()\n",
    "items_processed_df.index.names = ['index']\n",
    "items_processed_df.columns = [\"item_id\"] + [f\"item_feature_{x}\" for x in list(range(73))]\n",
    "items_processed_df"
   ]
  },
  {
   "cell_type": "markdown",
   "id": "a29b24b6",
   "metadata": {},
   "source": [
    "The item features can now be merged to the combined dataset with session views and purchases from above.\n",
    "Also NULL values are filled by 0."
   ]
  },
  {
   "cell_type": "code",
   "execution_count": 9,
   "id": "0d211879",
   "metadata": {
    "scrolled": true
   },
   "outputs": [
    {
     "data": {
      "text/html": [
       "<div>\n",
       "<style scoped>\n",
       "    .dataframe tbody tr th:only-of-type {\n",
       "        vertical-align: middle;\n",
       "    }\n",
       "\n",
       "    .dataframe tbody tr th {\n",
       "        vertical-align: top;\n",
       "    }\n",
       "\n",
       "    .dataframe thead th {\n",
       "        text-align: right;\n",
       "    }\n",
       "</style>\n",
       "<table border=\"1\" class=\"dataframe\">\n",
       "  <thead>\n",
       "    <tr style=\"text-align: right;\">\n",
       "      <th></th>\n",
       "      <th>session_id</th>\n",
       "      <th>item_id</th>\n",
       "      <th>date</th>\n",
       "      <th>was_bought</th>\n",
       "      <th>item_feature_0</th>\n",
       "      <th>item_feature_1</th>\n",
       "      <th>item_feature_2</th>\n",
       "      <th>item_feature_3</th>\n",
       "      <th>item_feature_4</th>\n",
       "      <th>item_feature_5</th>\n",
       "      <th>...</th>\n",
       "      <th>item_feature_63</th>\n",
       "      <th>item_feature_64</th>\n",
       "      <th>item_feature_65</th>\n",
       "      <th>item_feature_66</th>\n",
       "      <th>item_feature_67</th>\n",
       "      <th>item_feature_68</th>\n",
       "      <th>item_feature_69</th>\n",
       "      <th>item_feature_70</th>\n",
       "      <th>item_feature_71</th>\n",
       "      <th>item_feature_72</th>\n",
       "    </tr>\n",
       "  </thead>\n",
       "  <tbody>\n",
       "    <tr>\n",
       "      <th>0</th>\n",
       "      <td>3</td>\n",
       "      <td>9655</td>\n",
       "      <td>2020-12-18 21:19:48.093</td>\n",
       "      <td>0.0</td>\n",
       "      <td>NaN</td>\n",
       "      <td>53.0</td>\n",
       "      <td>NaN</td>\n",
       "      <td>NaN</td>\n",
       "      <td>NaN</td>\n",
       "      <td>NaN</td>\n",
       "      <td>...</td>\n",
       "      <td>NaN</td>\n",
       "      <td>NaN</td>\n",
       "      <td>NaN</td>\n",
       "      <td>349.0</td>\n",
       "      <td>393.0</td>\n",
       "      <td>NaN</td>\n",
       "      <td>NaN</td>\n",
       "      <td>NaN</td>\n",
       "      <td>NaN</td>\n",
       "      <td>544.0</td>\n",
       "    </tr>\n",
       "    <tr>\n",
       "      <th>1</th>\n",
       "      <td>3</td>\n",
       "      <td>9655</td>\n",
       "      <td>2020-12-18 21:25:00.373</td>\n",
       "      <td>0.0</td>\n",
       "      <td>NaN</td>\n",
       "      <td>53.0</td>\n",
       "      <td>NaN</td>\n",
       "      <td>NaN</td>\n",
       "      <td>NaN</td>\n",
       "      <td>NaN</td>\n",
       "      <td>...</td>\n",
       "      <td>NaN</td>\n",
       "      <td>NaN</td>\n",
       "      <td>NaN</td>\n",
       "      <td>349.0</td>\n",
       "      <td>393.0</td>\n",
       "      <td>NaN</td>\n",
       "      <td>NaN</td>\n",
       "      <td>NaN</td>\n",
       "      <td>NaN</td>\n",
       "      <td>544.0</td>\n",
       "    </tr>\n",
       "    <tr>\n",
       "      <th>2</th>\n",
       "      <td>3</td>\n",
       "      <td>15085</td>\n",
       "      <td>2020-12-18 21:26:47.986</td>\n",
       "      <td>1.0</td>\n",
       "      <td>NaN</td>\n",
       "      <td>53.0</td>\n",
       "      <td>NaN</td>\n",
       "      <td>NaN</td>\n",
       "      <td>NaN</td>\n",
       "      <td>NaN</td>\n",
       "      <td>...</td>\n",
       "      <td>NaN</td>\n",
       "      <td>NaN</td>\n",
       "      <td>NaN</td>\n",
       "      <td>349.0</td>\n",
       "      <td>97.0</td>\n",
       "      <td>NaN</td>\n",
       "      <td>NaN</td>\n",
       "      <td>NaN</td>\n",
       "      <td>NaN</td>\n",
       "      <td>544.0</td>\n",
       "    </tr>\n",
       "    <tr>\n",
       "      <th>3</th>\n",
       "      <td>13</td>\n",
       "      <td>15654</td>\n",
       "      <td>2020-03-13 19:35:27.136</td>\n",
       "      <td>0.0</td>\n",
       "      <td>NaN</td>\n",
       "      <td>NaN</td>\n",
       "      <td>NaN</td>\n",
       "      <td>618.0</td>\n",
       "      <td>NaN</td>\n",
       "      <td>766.0</td>\n",
       "      <td>...</td>\n",
       "      <td>NaN</td>\n",
       "      <td>521.0</td>\n",
       "      <td>NaN</td>\n",
       "      <td>NaN</td>\n",
       "      <td>351.0</td>\n",
       "      <td>780.0</td>\n",
       "      <td>NaN</td>\n",
       "      <td>NaN</td>\n",
       "      <td>219.0</td>\n",
       "      <td>NaN</td>\n",
       "    </tr>\n",
       "    <tr>\n",
       "      <th>4</th>\n",
       "      <td>13</td>\n",
       "      <td>18626</td>\n",
       "      <td>2020-03-13 19:36:15.507</td>\n",
       "      <td>1.0</td>\n",
       "      <td>NaN</td>\n",
       "      <td>NaN</td>\n",
       "      <td>793.0</td>\n",
       "      <td>618.0</td>\n",
       "      <td>605.0</td>\n",
       "      <td>NaN</td>\n",
       "      <td>...</td>\n",
       "      <td>NaN</td>\n",
       "      <td>NaN</td>\n",
       "      <td>NaN</td>\n",
       "      <td>NaN</td>\n",
       "      <td>739.0</td>\n",
       "      <td>805.0</td>\n",
       "      <td>NaN</td>\n",
       "      <td>NaN</td>\n",
       "      <td>75.0</td>\n",
       "      <td>544.0</td>\n",
       "    </tr>\n",
       "    <tr>\n",
       "      <th>...</th>\n",
       "      <td>...</td>\n",
       "      <td>...</td>\n",
       "      <td>...</td>\n",
       "      <td>...</td>\n",
       "      <td>...</td>\n",
       "      <td>...</td>\n",
       "      <td>...</td>\n",
       "      <td>...</td>\n",
       "      <td>...</td>\n",
       "      <td>...</td>\n",
       "      <td>...</td>\n",
       "      <td>...</td>\n",
       "      <td>...</td>\n",
       "      <td>...</td>\n",
       "      <td>...</td>\n",
       "      <td>...</td>\n",
       "      <td>...</td>\n",
       "      <td>...</td>\n",
       "      <td>...</td>\n",
       "      <td>...</td>\n",
       "      <td>...</td>\n",
       "    </tr>\n",
       "    <tr>\n",
       "      <th>5743815</th>\n",
       "      <td>4440001</td>\n",
       "      <td>19539</td>\n",
       "      <td>2020-10-30 23:37:09.46</td>\n",
       "      <td>0.0</td>\n",
       "      <td>NaN</td>\n",
       "      <td>NaN</td>\n",
       "      <td>NaN</td>\n",
       "      <td>618.0</td>\n",
       "      <td>NaN</td>\n",
       "      <td>NaN</td>\n",
       "      <td>...</td>\n",
       "      <td>NaN</td>\n",
       "      <td>NaN</td>\n",
       "      <td>NaN</td>\n",
       "      <td>NaN</td>\n",
       "      <td>351.0</td>\n",
       "      <td>885.0</td>\n",
       "      <td>NaN</td>\n",
       "      <td>NaN</td>\n",
       "      <td>75.0</td>\n",
       "      <td>544.0</td>\n",
       "    </tr>\n",
       "    <tr>\n",
       "      <th>5743816</th>\n",
       "      <td>4440001</td>\n",
       "      <td>20409</td>\n",
       "      <td>2020-10-30 23:37:20.658</td>\n",
       "      <td>0.0</td>\n",
       "      <td>NaN</td>\n",
       "      <td>NaN</td>\n",
       "      <td>NaN</td>\n",
       "      <td>618.0</td>\n",
       "      <td>NaN</td>\n",
       "      <td>NaN</td>\n",
       "      <td>...</td>\n",
       "      <td>NaN</td>\n",
       "      <td>NaN</td>\n",
       "      <td>NaN</td>\n",
       "      <td>NaN</td>\n",
       "      <td>351.0</td>\n",
       "      <td>885.0</td>\n",
       "      <td>NaN</td>\n",
       "      <td>NaN</td>\n",
       "      <td>75.0</td>\n",
       "      <td>544.0</td>\n",
       "    </tr>\n",
       "    <tr>\n",
       "      <th>5743817</th>\n",
       "      <td>4440001</td>\n",
       "      <td>27852</td>\n",
       "      <td>2020-10-30 23:39:55.186</td>\n",
       "      <td>0.0</td>\n",
       "      <td>NaN</td>\n",
       "      <td>NaN</td>\n",
       "      <td>NaN</td>\n",
       "      <td>618.0</td>\n",
       "      <td>NaN</td>\n",
       "      <td>778.0</td>\n",
       "      <td>...</td>\n",
       "      <td>NaN</td>\n",
       "      <td>550.0</td>\n",
       "      <td>NaN</td>\n",
       "      <td>NaN</td>\n",
       "      <td>351.0</td>\n",
       "      <td>362.0</td>\n",
       "      <td>NaN</td>\n",
       "      <td>NaN</td>\n",
       "      <td>75.0</td>\n",
       "      <td>544.0</td>\n",
       "    </tr>\n",
       "    <tr>\n",
       "      <th>5743818</th>\n",
       "      <td>4440001</td>\n",
       "      <td>20449</td>\n",
       "      <td>2020-10-30 23:40:28.149</td>\n",
       "      <td>0.0</td>\n",
       "      <td>NaN</td>\n",
       "      <td>NaN</td>\n",
       "      <td>NaN</td>\n",
       "      <td>618.0</td>\n",
       "      <td>NaN</td>\n",
       "      <td>778.0</td>\n",
       "      <td>...</td>\n",
       "      <td>NaN</td>\n",
       "      <td>550.0</td>\n",
       "      <td>NaN</td>\n",
       "      <td>NaN</td>\n",
       "      <td>351.0</td>\n",
       "      <td>362.0</td>\n",
       "      <td>NaN</td>\n",
       "      <td>NaN</td>\n",
       "      <td>75.0</td>\n",
       "      <td>544.0</td>\n",
       "    </tr>\n",
       "    <tr>\n",
       "      <th>5743819</th>\n",
       "      <td>4440001</td>\n",
       "      <td>16631</td>\n",
       "      <td>2020-10-30 23:46:05.218</td>\n",
       "      <td>1.0</td>\n",
       "      <td>NaN</td>\n",
       "      <td>53.0</td>\n",
       "      <td>NaN</td>\n",
       "      <td>NaN</td>\n",
       "      <td>NaN</td>\n",
       "      <td>NaN</td>\n",
       "      <td>...</td>\n",
       "      <td>NaN</td>\n",
       "      <td>NaN</td>\n",
       "      <td>776.0</td>\n",
       "      <td>349.0</td>\n",
       "      <td>596.0</td>\n",
       "      <td>NaN</td>\n",
       "      <td>NaN</td>\n",
       "      <td>NaN</td>\n",
       "      <td>NaN</td>\n",
       "      <td>544.0</td>\n",
       "    </tr>\n",
       "  </tbody>\n",
       "</table>\n",
       "<p>5743820 rows × 77 columns</p>\n",
       "</div>"
      ],
      "text/plain": [
       "         session_id  item_id                     date  was_bought  \\\n",
       "0                 3     9655  2020-12-18 21:19:48.093         0.0   \n",
       "1                 3     9655  2020-12-18 21:25:00.373         0.0   \n",
       "2                 3    15085  2020-12-18 21:26:47.986         1.0   \n",
       "3                13    15654  2020-03-13 19:35:27.136         0.0   \n",
       "4                13    18626  2020-03-13 19:36:15.507         1.0   \n",
       "...             ...      ...                      ...         ...   \n",
       "5743815     4440001    19539   2020-10-30 23:37:09.46         0.0   \n",
       "5743816     4440001    20409  2020-10-30 23:37:20.658         0.0   \n",
       "5743817     4440001    27852  2020-10-30 23:39:55.186         0.0   \n",
       "5743818     4440001    20449  2020-10-30 23:40:28.149         0.0   \n",
       "5743819     4440001    16631  2020-10-30 23:46:05.218         1.0   \n",
       "\n",
       "         item_feature_0  item_feature_1  item_feature_2  item_feature_3  \\\n",
       "0                   NaN            53.0             NaN             NaN   \n",
       "1                   NaN            53.0             NaN             NaN   \n",
       "2                   NaN            53.0             NaN             NaN   \n",
       "3                   NaN             NaN             NaN           618.0   \n",
       "4                   NaN             NaN           793.0           618.0   \n",
       "...                 ...             ...             ...             ...   \n",
       "5743815             NaN             NaN             NaN           618.0   \n",
       "5743816             NaN             NaN             NaN           618.0   \n",
       "5743817             NaN             NaN             NaN           618.0   \n",
       "5743818             NaN             NaN             NaN           618.0   \n",
       "5743819             NaN            53.0             NaN             NaN   \n",
       "\n",
       "         item_feature_4  item_feature_5  ...  item_feature_63  \\\n",
       "0                   NaN             NaN  ...              NaN   \n",
       "1                   NaN             NaN  ...              NaN   \n",
       "2                   NaN             NaN  ...              NaN   \n",
       "3                   NaN           766.0  ...              NaN   \n",
       "4                 605.0             NaN  ...              NaN   \n",
       "...                 ...             ...  ...              ...   \n",
       "5743815             NaN             NaN  ...              NaN   \n",
       "5743816             NaN             NaN  ...              NaN   \n",
       "5743817             NaN           778.0  ...              NaN   \n",
       "5743818             NaN           778.0  ...              NaN   \n",
       "5743819             NaN             NaN  ...              NaN   \n",
       "\n",
       "         item_feature_64  item_feature_65  item_feature_66  item_feature_67  \\\n",
       "0                    NaN              NaN            349.0            393.0   \n",
       "1                    NaN              NaN            349.0            393.0   \n",
       "2                    NaN              NaN            349.0             97.0   \n",
       "3                  521.0              NaN              NaN            351.0   \n",
       "4                    NaN              NaN              NaN            739.0   \n",
       "...                  ...              ...              ...              ...   \n",
       "5743815              NaN              NaN              NaN            351.0   \n",
       "5743816              NaN              NaN              NaN            351.0   \n",
       "5743817            550.0              NaN              NaN            351.0   \n",
       "5743818            550.0              NaN              NaN            351.0   \n",
       "5743819              NaN            776.0            349.0            596.0   \n",
       "\n",
       "         item_feature_68  item_feature_69  item_feature_70  item_feature_71  \\\n",
       "0                    NaN              NaN              NaN              NaN   \n",
       "1                    NaN              NaN              NaN              NaN   \n",
       "2                    NaN              NaN              NaN              NaN   \n",
       "3                  780.0              NaN              NaN            219.0   \n",
       "4                  805.0              NaN              NaN             75.0   \n",
       "...                  ...              ...              ...              ...   \n",
       "5743815            885.0              NaN              NaN             75.0   \n",
       "5743816            885.0              NaN              NaN             75.0   \n",
       "5743817            362.0              NaN              NaN             75.0   \n",
       "5743818            362.0              NaN              NaN             75.0   \n",
       "5743819              NaN              NaN              NaN              NaN   \n",
       "\n",
       "         item_feature_72  \n",
       "0                  544.0  \n",
       "1                  544.0  \n",
       "2                  544.0  \n",
       "3                    NaN  \n",
       "4                  544.0  \n",
       "...                  ...  \n",
       "5743815            544.0  \n",
       "5743816            544.0  \n",
       "5743817            544.0  \n",
       "5743818            544.0  \n",
       "5743819            544.0  \n",
       "\n",
       "[5743820 rows x 77 columns]"
      ]
     },
     "execution_count": 9,
     "metadata": {},
     "output_type": "execute_result"
    }
   ],
   "source": [
    "df_processed = df_processed.merge(items_processed_df, how=\"left\", on=\"item_id\")\n",
    "df_processed[\"was_bought\"] = df_processed[\"was_bought\"].astype(float)\n",
    "df_processed"
   ]
  },
  {
   "cell_type": "code",
   "execution_count": 10,
   "id": "70b8981e",
   "metadata": {
    "scrolled": false
   },
   "outputs": [
    {
     "data": {
      "text/html": [
       "<div>\n",
       "<style scoped>\n",
       "    .dataframe tbody tr th:only-of-type {\n",
       "        vertical-align: middle;\n",
       "    }\n",
       "\n",
       "    .dataframe tbody tr th {\n",
       "        vertical-align: top;\n",
       "    }\n",
       "\n",
       "    .dataframe thead th {\n",
       "        text-align: right;\n",
       "    }\n",
       "</style>\n",
       "<table border=\"1\" class=\"dataframe\">\n",
       "  <thead>\n",
       "    <tr style=\"text-align: right;\">\n",
       "      <th></th>\n",
       "      <th>item_id</th>\n",
       "      <th>item_feature_0</th>\n",
       "      <th>item_feature_1</th>\n",
       "      <th>item_feature_2</th>\n",
       "      <th>item_feature_3</th>\n",
       "      <th>item_feature_4</th>\n",
       "      <th>item_feature_5</th>\n",
       "      <th>item_feature_6</th>\n",
       "      <th>item_feature_7</th>\n",
       "      <th>item_feature_8</th>\n",
       "      <th>...</th>\n",
       "      <th>item_feature_63</th>\n",
       "      <th>item_feature_64</th>\n",
       "      <th>item_feature_65</th>\n",
       "      <th>item_feature_66</th>\n",
       "      <th>item_feature_67</th>\n",
       "      <th>item_feature_68</th>\n",
       "      <th>item_feature_69</th>\n",
       "      <th>item_feature_70</th>\n",
       "      <th>item_feature_71</th>\n",
       "      <th>item_feature_72</th>\n",
       "    </tr>\n",
       "    <tr>\n",
       "      <th>index</th>\n",
       "      <th></th>\n",
       "      <th></th>\n",
       "      <th></th>\n",
       "      <th></th>\n",
       "      <th></th>\n",
       "      <th></th>\n",
       "      <th></th>\n",
       "      <th></th>\n",
       "      <th></th>\n",
       "      <th></th>\n",
       "      <th></th>\n",
       "      <th></th>\n",
       "      <th></th>\n",
       "      <th></th>\n",
       "      <th></th>\n",
       "      <th></th>\n",
       "      <th></th>\n",
       "      <th></th>\n",
       "      <th></th>\n",
       "      <th></th>\n",
       "      <th></th>\n",
       "    </tr>\n",
       "  </thead>\n",
       "  <tbody>\n",
       "    <tr>\n",
       "      <th>0</th>\n",
       "      <td>2</td>\n",
       "      <td>0.0</td>\n",
       "      <td>0.0</td>\n",
       "      <td>0.0</td>\n",
       "      <td>0.0</td>\n",
       "      <td>0.0</td>\n",
       "      <td>0.0</td>\n",
       "      <td>394.0</td>\n",
       "      <td>0.0</td>\n",
       "      <td>0.0</td>\n",
       "      <td>...</td>\n",
       "      <td>0.0</td>\n",
       "      <td>0.0</td>\n",
       "      <td>0.0</td>\n",
       "      <td>0.0</td>\n",
       "      <td>351.0</td>\n",
       "      <td>885.0</td>\n",
       "      <td>0.0</td>\n",
       "      <td>0.0</td>\n",
       "      <td>75.0</td>\n",
       "      <td>0.0</td>\n",
       "    </tr>\n",
       "    <tr>\n",
       "      <th>1</th>\n",
       "      <td>3</td>\n",
       "      <td>0.0</td>\n",
       "      <td>0.0</td>\n",
       "      <td>889.0</td>\n",
       "      <td>618.0</td>\n",
       "      <td>605.0</td>\n",
       "      <td>0.0</td>\n",
       "      <td>452.0</td>\n",
       "      <td>0.0</td>\n",
       "      <td>0.0</td>\n",
       "      <td>...</td>\n",
       "      <td>0.0</td>\n",
       "      <td>521.0</td>\n",
       "      <td>0.0</td>\n",
       "      <td>0.0</td>\n",
       "      <td>14.0</td>\n",
       "      <td>592.0</td>\n",
       "      <td>0.0</td>\n",
       "      <td>0.0</td>\n",
       "      <td>75.0</td>\n",
       "      <td>544.0</td>\n",
       "    </tr>\n",
       "    <tr>\n",
       "      <th>2</th>\n",
       "      <td>4</td>\n",
       "      <td>0.0</td>\n",
       "      <td>0.0</td>\n",
       "      <td>793.0</td>\n",
       "      <td>618.0</td>\n",
       "      <td>605.0</td>\n",
       "      <td>0.0</td>\n",
       "      <td>837.0</td>\n",
       "      <td>0.0</td>\n",
       "      <td>0.0</td>\n",
       "      <td>...</td>\n",
       "      <td>0.0</td>\n",
       "      <td>521.0</td>\n",
       "      <td>0.0</td>\n",
       "      <td>0.0</td>\n",
       "      <td>373.0</td>\n",
       "      <td>538.0</td>\n",
       "      <td>0.0</td>\n",
       "      <td>0.0</td>\n",
       "      <td>75.0</td>\n",
       "      <td>544.0</td>\n",
       "    </tr>\n",
       "    <tr>\n",
       "      <th>3</th>\n",
       "      <td>7</td>\n",
       "      <td>0.0</td>\n",
       "      <td>0.0</td>\n",
       "      <td>0.0</td>\n",
       "      <td>0.0</td>\n",
       "      <td>0.0</td>\n",
       "      <td>0.0</td>\n",
       "      <td>536.0</td>\n",
       "      <td>0.0</td>\n",
       "      <td>0.0</td>\n",
       "      <td>...</td>\n",
       "      <td>0.0</td>\n",
       "      <td>0.0</td>\n",
       "      <td>0.0</td>\n",
       "      <td>0.0</td>\n",
       "      <td>739.0</td>\n",
       "      <td>592.0</td>\n",
       "      <td>0.0</td>\n",
       "      <td>0.0</td>\n",
       "      <td>75.0</td>\n",
       "      <td>0.0</td>\n",
       "    </tr>\n",
       "    <tr>\n",
       "      <th>4</th>\n",
       "      <td>8</td>\n",
       "      <td>0.0</td>\n",
       "      <td>0.0</td>\n",
       "      <td>793.0</td>\n",
       "      <td>618.0</td>\n",
       "      <td>605.0</td>\n",
       "      <td>0.0</td>\n",
       "      <td>798.0</td>\n",
       "      <td>0.0</td>\n",
       "      <td>0.0</td>\n",
       "      <td>...</td>\n",
       "      <td>0.0</td>\n",
       "      <td>521.0</td>\n",
       "      <td>0.0</td>\n",
       "      <td>0.0</td>\n",
       "      <td>351.0</td>\n",
       "      <td>592.0</td>\n",
       "      <td>0.0</td>\n",
       "      <td>0.0</td>\n",
       "      <td>75.0</td>\n",
       "      <td>544.0</td>\n",
       "    </tr>\n",
       "    <tr>\n",
       "      <th>...</th>\n",
       "      <td>...</td>\n",
       "      <td>...</td>\n",
       "      <td>...</td>\n",
       "      <td>...</td>\n",
       "      <td>...</td>\n",
       "      <td>...</td>\n",
       "      <td>...</td>\n",
       "      <td>...</td>\n",
       "      <td>...</td>\n",
       "      <td>...</td>\n",
       "      <td>...</td>\n",
       "      <td>...</td>\n",
       "      <td>...</td>\n",
       "      <td>...</td>\n",
       "      <td>...</td>\n",
       "      <td>...</td>\n",
       "      <td>...</td>\n",
       "      <td>...</td>\n",
       "      <td>...</td>\n",
       "      <td>...</td>\n",
       "      <td>...</td>\n",
       "    </tr>\n",
       "    <tr>\n",
       "      <th>23686</th>\n",
       "      <td>28139</td>\n",
       "      <td>0.0</td>\n",
       "      <td>0.0</td>\n",
       "      <td>793.0</td>\n",
       "      <td>618.0</td>\n",
       "      <td>605.0</td>\n",
       "      <td>0.0</td>\n",
       "      <td>798.0</td>\n",
       "      <td>0.0</td>\n",
       "      <td>0.0</td>\n",
       "      <td>...</td>\n",
       "      <td>0.0</td>\n",
       "      <td>521.0</td>\n",
       "      <td>0.0</td>\n",
       "      <td>0.0</td>\n",
       "      <td>106.0</td>\n",
       "      <td>805.0</td>\n",
       "      <td>0.0</td>\n",
       "      <td>0.0</td>\n",
       "      <td>75.0</td>\n",
       "      <td>544.0</td>\n",
       "    </tr>\n",
       "    <tr>\n",
       "      <th>23687</th>\n",
       "      <td>28140</td>\n",
       "      <td>0.0</td>\n",
       "      <td>53.0</td>\n",
       "      <td>0.0</td>\n",
       "      <td>0.0</td>\n",
       "      <td>0.0</td>\n",
       "      <td>0.0</td>\n",
       "      <td>0.0</td>\n",
       "      <td>0.0</td>\n",
       "      <td>0.0</td>\n",
       "      <td>...</td>\n",
       "      <td>80.0</td>\n",
       "      <td>0.0</td>\n",
       "      <td>0.0</td>\n",
       "      <td>349.0</td>\n",
       "      <td>351.0</td>\n",
       "      <td>0.0</td>\n",
       "      <td>0.0</td>\n",
       "      <td>226.0</td>\n",
       "      <td>0.0</td>\n",
       "      <td>544.0</td>\n",
       "    </tr>\n",
       "    <tr>\n",
       "      <th>23688</th>\n",
       "      <td>28141</td>\n",
       "      <td>461.0</td>\n",
       "      <td>0.0</td>\n",
       "      <td>889.0</td>\n",
       "      <td>719.0</td>\n",
       "      <td>605.0</td>\n",
       "      <td>0.0</td>\n",
       "      <td>2.0</td>\n",
       "      <td>0.0</td>\n",
       "      <td>0.0</td>\n",
       "      <td>...</td>\n",
       "      <td>0.0</td>\n",
       "      <td>0.0</td>\n",
       "      <td>0.0</td>\n",
       "      <td>0.0</td>\n",
       "      <td>379.0</td>\n",
       "      <td>499.0</td>\n",
       "      <td>0.0</td>\n",
       "      <td>0.0</td>\n",
       "      <td>75.0</td>\n",
       "      <td>544.0</td>\n",
       "    </tr>\n",
       "    <tr>\n",
       "      <th>23689</th>\n",
       "      <td>28142</td>\n",
       "      <td>0.0</td>\n",
       "      <td>0.0</td>\n",
       "      <td>0.0</td>\n",
       "      <td>0.0</td>\n",
       "      <td>0.0</td>\n",
       "      <td>0.0</td>\n",
       "      <td>619.0</td>\n",
       "      <td>0.0</td>\n",
       "      <td>0.0</td>\n",
       "      <td>...</td>\n",
       "      <td>0.0</td>\n",
       "      <td>610.0</td>\n",
       "      <td>0.0</td>\n",
       "      <td>0.0</td>\n",
       "      <td>895.0</td>\n",
       "      <td>740.0</td>\n",
       "      <td>0.0</td>\n",
       "      <td>0.0</td>\n",
       "      <td>75.0</td>\n",
       "      <td>91.0</td>\n",
       "    </tr>\n",
       "    <tr>\n",
       "      <th>23690</th>\n",
       "      <td>28143</td>\n",
       "      <td>0.0</td>\n",
       "      <td>0.0</td>\n",
       "      <td>0.0</td>\n",
       "      <td>0.0</td>\n",
       "      <td>0.0</td>\n",
       "      <td>0.0</td>\n",
       "      <td>798.0</td>\n",
       "      <td>0.0</td>\n",
       "      <td>0.0</td>\n",
       "      <td>...</td>\n",
       "      <td>0.0</td>\n",
       "      <td>0.0</td>\n",
       "      <td>0.0</td>\n",
       "      <td>0.0</td>\n",
       "      <td>351.0</td>\n",
       "      <td>499.0</td>\n",
       "      <td>0.0</td>\n",
       "      <td>0.0</td>\n",
       "      <td>371.0</td>\n",
       "      <td>91.0</td>\n",
       "    </tr>\n",
       "  </tbody>\n",
       "</table>\n",
       "<p>23691 rows × 74 columns</p>\n",
       "</div>"
      ],
      "text/plain": [
       "       item_id  item_feature_0  item_feature_1  item_feature_2  \\\n",
       "index                                                            \n",
       "0            2             0.0             0.0             0.0   \n",
       "1            3             0.0             0.0           889.0   \n",
       "2            4             0.0             0.0           793.0   \n",
       "3            7             0.0             0.0             0.0   \n",
       "4            8             0.0             0.0           793.0   \n",
       "...        ...             ...             ...             ...   \n",
       "23686    28139             0.0             0.0           793.0   \n",
       "23687    28140             0.0            53.0             0.0   \n",
       "23688    28141           461.0             0.0           889.0   \n",
       "23689    28142             0.0             0.0             0.0   \n",
       "23690    28143             0.0             0.0             0.0   \n",
       "\n",
       "       item_feature_3  item_feature_4  item_feature_5  item_feature_6  \\\n",
       "index                                                                   \n",
       "0                 0.0             0.0             0.0           394.0   \n",
       "1               618.0           605.0             0.0           452.0   \n",
       "2               618.0           605.0             0.0           837.0   \n",
       "3                 0.0             0.0             0.0           536.0   \n",
       "4               618.0           605.0             0.0           798.0   \n",
       "...               ...             ...             ...             ...   \n",
       "23686           618.0           605.0             0.0           798.0   \n",
       "23687             0.0             0.0             0.0             0.0   \n",
       "23688           719.0           605.0             0.0             2.0   \n",
       "23689             0.0             0.0             0.0           619.0   \n",
       "23690             0.0             0.0             0.0           798.0   \n",
       "\n",
       "       item_feature_7  item_feature_8  ...  item_feature_63  item_feature_64  \\\n",
       "index                                  ...                                     \n",
       "0                 0.0             0.0  ...              0.0              0.0   \n",
       "1                 0.0             0.0  ...              0.0            521.0   \n",
       "2                 0.0             0.0  ...              0.0            521.0   \n",
       "3                 0.0             0.0  ...              0.0              0.0   \n",
       "4                 0.0             0.0  ...              0.0            521.0   \n",
       "...               ...             ...  ...              ...              ...   \n",
       "23686             0.0             0.0  ...              0.0            521.0   \n",
       "23687             0.0             0.0  ...             80.0              0.0   \n",
       "23688             0.0             0.0  ...              0.0              0.0   \n",
       "23689             0.0             0.0  ...              0.0            610.0   \n",
       "23690             0.0             0.0  ...              0.0              0.0   \n",
       "\n",
       "       item_feature_65  item_feature_66  item_feature_67  item_feature_68  \\\n",
       "index                                                                       \n",
       "0                  0.0              0.0            351.0            885.0   \n",
       "1                  0.0              0.0             14.0            592.0   \n",
       "2                  0.0              0.0            373.0            538.0   \n",
       "3                  0.0              0.0            739.0            592.0   \n",
       "4                  0.0              0.0            351.0            592.0   \n",
       "...                ...              ...              ...              ...   \n",
       "23686              0.0              0.0            106.0            805.0   \n",
       "23687              0.0            349.0            351.0              0.0   \n",
       "23688              0.0              0.0            379.0            499.0   \n",
       "23689              0.0              0.0            895.0            740.0   \n",
       "23690              0.0              0.0            351.0            499.0   \n",
       "\n",
       "       item_feature_69  item_feature_70  item_feature_71  item_feature_72  \n",
       "index                                                                      \n",
       "0                  0.0              0.0             75.0              0.0  \n",
       "1                  0.0              0.0             75.0            544.0  \n",
       "2                  0.0              0.0             75.0            544.0  \n",
       "3                  0.0              0.0             75.0              0.0  \n",
       "4                  0.0              0.0             75.0            544.0  \n",
       "...                ...              ...              ...              ...  \n",
       "23686              0.0              0.0             75.0            544.0  \n",
       "23687              0.0            226.0              0.0            544.0  \n",
       "23688              0.0              0.0             75.0            544.0  \n",
       "23689              0.0              0.0             75.0             91.0  \n",
       "23690              0.0              0.0            371.0             91.0  \n",
       "\n",
       "[23691 rows x 74 columns]"
      ]
     },
     "execution_count": 10,
     "metadata": {},
     "output_type": "execute_result"
    }
   ],
   "source": [
    "items_processed_df = items_processed_df.fillna(0)\n",
    "items_processed_df"
   ]
  },
  {
   "cell_type": "code",
   "execution_count": 11,
   "id": "3aae0c06",
   "metadata": {},
   "outputs": [
    {
     "name": "stdout",
     "output_type": "stream",
     "text": [
      "(23691, 73)\n",
      "(23691, 1399)\n"
     ]
    }
   ],
   "source": [
    "from sklearn.preprocessing import OneHotEncoder\n",
    "\n",
    "to_encode = items_processed_df.drop(\"item_id\", axis=1)\n",
    "\n",
    "encoded = OneHotEncoder().fit_transform(to_encode)\n",
    "print(to_encode.shape)\n",
    "print(encoded.shape)"
   ]
  },
  {
   "cell_type": "markdown",
   "id": "7ff84254",
   "metadata": {},
   "source": [
    "In the next step, we encode the contents of the items (one hot encoding). This encoding will be used later for our embedding."
   ]
  },
  {
   "cell_type": "code",
   "execution_count": 12,
   "id": "92d784a7",
   "metadata": {
    "scrolled": true
   },
   "outputs": [
    {
     "data": {
      "text/plain": [
       "array([[1., 0., 0., ..., 1., 0., 0.],\n",
       "       [1., 0., 0., ..., 0., 0., 1.],\n",
       "       [1., 0., 0., ..., 0., 0., 1.],\n",
       "       ...,\n",
       "       [0., 0., 0., ..., 0., 0., 1.],\n",
       "       [1., 0., 0., ..., 0., 1., 0.],\n",
       "       [1., 0., 0., ..., 0., 1., 0.]])"
      ]
     },
     "execution_count": 12,
     "metadata": {},
     "output_type": "execute_result"
    }
   ],
   "source": [
    "items_encoded = np.array(encoded.toarray())\n",
    "items_encoded"
   ]
  },
  {
   "cell_type": "code",
   "execution_count": 13,
   "id": "7ef9cdf5",
   "metadata": {},
   "outputs": [],
   "source": [
    "item_id2index = dict(zip(items_processed_df.item_id, items_processed_df.index))"
   ]
  },
  {
   "cell_type": "code",
   "execution_count": 14,
   "id": "67ee4b9d",
   "metadata": {},
   "outputs": [],
   "source": [
    "all_items = list(items_processed_df[\"item_id\"])"
   ]
  },
  {
   "cell_type": "code",
   "execution_count": 15,
   "id": "17d8e6ec",
   "metadata": {
    "scrolled": true
   },
   "outputs": [
    {
     "data": {
      "text/plain": [
       "array([  0.,   0.,   0.,   0.,   0.,   0., 394.,   0.,   0.,   0.,   0.,\n",
       "         0.,   0.,   0.,   0.,  38.,   0.,   0.,   0.,   0.,   0.,   0.,\n",
       "         0.,   0.,   0.,   0.,   0.,   0., 123.,   0.,   0.,   0., 802.,\n",
       "         0.,   0.,   0.,   0.,   0.,   0.,   0.,   0.,   0.,   0.,   0.,\n",
       "         0.,   0., 123.,   0.,   0.,  76.,   0.,   0.,   6.,   0.,   0.,\n",
       "       365.,   0.,   0.,   0.,   0., 462., 801.,   0.,   0.,   0.,   0.,\n",
       "         0., 351., 885.,   0.,   0.,  75.,   0.])"
      ]
     },
     "execution_count": 15,
     "metadata": {},
     "output_type": "execute_result"
    }
   ],
   "source": [
    "items_processed_array = np.array(items_processed_df.drop(\"item_id\",axis=1))\n",
    "items_processed_array[item_id2index[2]]"
   ]
  },
  {
   "cell_type": "markdown",
   "id": "31882640",
   "metadata": {},
   "source": [
    "Next we read in the candidate items."
   ]
  },
  {
   "cell_type": "code",
   "execution_count": 16,
   "id": "137a6967",
   "metadata": {
    "scrolled": true
   },
   "outputs": [
    {
     "data": {
      "text/plain": [
       "[4, 8, 9, 19, 20, 26, 33, 40, 51, 54]"
      ]
     },
     "execution_count": 16,
     "metadata": {},
     "output_type": "execute_result"
    }
   ],
   "source": [
    "candidate_items = list(pd.read_csv(\"candidate_items.csv\")[\"item_id\"])\n",
    "candidate_items[:10]"
   ]
  },
  {
   "cell_type": "markdown",
   "id": "8bc71d1d",
   "metadata": {},
   "source": [
    "## LSTM specific Data Preparation\n",
    "\n",
    "### Item sequence preparation"
   ]
  },
  {
   "cell_type": "markdown",
   "id": "c2718434",
   "metadata": {},
   "source": [
    "Similarly to predicting the next word of a sentence, we can predict the \"next item\" in a session. For this, we see the viewed (but not purchased) items as a given sequence of input words, and the purchased items as output words. Now we want to transform the data into a form reflecting this idea.\n",
    "\n",
    "First, let us prepare the training data for the LSTM. For this, we select a subset of the training dataset, so that RAM is not exceeded."
   ]
  },
  {
   "cell_type": "code",
   "execution_count": 17,
   "id": "60557989",
   "metadata": {},
   "outputs": [],
   "source": [
    "session_ids_cand = df_processed[(df_processed.was_bought==1) & (df_processed.item_id.isin(candidate_items))].session_id"
   ]
  },
  {
   "cell_type": "code",
   "execution_count": 18,
   "id": "699c0dcf",
   "metadata": {
    "scrolled": true
   },
   "outputs": [
    {
     "data": {
      "text/html": [
       "<div>\n",
       "<style scoped>\n",
       "    .dataframe tbody tr th:only-of-type {\n",
       "        vertical-align: middle;\n",
       "    }\n",
       "\n",
       "    .dataframe tbody tr th {\n",
       "        vertical-align: top;\n",
       "    }\n",
       "\n",
       "    .dataframe thead th {\n",
       "        text-align: right;\n",
       "    }\n",
       "</style>\n",
       "<table border=\"1\" class=\"dataframe\">\n",
       "  <thead>\n",
       "    <tr style=\"text-align: right;\">\n",
       "      <th></th>\n",
       "      <th>session_id</th>\n",
       "      <th>item_id</th>\n",
       "      <th>was_bought</th>\n",
       "    </tr>\n",
       "  </thead>\n",
       "  <tbody>\n",
       "    <tr>\n",
       "      <th>3</th>\n",
       "      <td>13</td>\n",
       "      <td>15654</td>\n",
       "      <td>0.0</td>\n",
       "    </tr>\n",
       "    <tr>\n",
       "      <th>4</th>\n",
       "      <td>13</td>\n",
       "      <td>18626</td>\n",
       "      <td>1.0</td>\n",
       "    </tr>\n",
       "    <tr>\n",
       "      <th>42</th>\n",
       "      <td>31</td>\n",
       "      <td>25972</td>\n",
       "      <td>0.0</td>\n",
       "    </tr>\n",
       "    <tr>\n",
       "      <th>43</th>\n",
       "      <td>31</td>\n",
       "      <td>16289</td>\n",
       "      <td>0.0</td>\n",
       "    </tr>\n",
       "    <tr>\n",
       "      <th>44</th>\n",
       "      <td>31</td>\n",
       "      <td>2069</td>\n",
       "      <td>0.0</td>\n",
       "    </tr>\n",
       "    <tr>\n",
       "      <th>...</th>\n",
       "      <td>...</td>\n",
       "      <td>...</td>\n",
       "      <td>...</td>\n",
       "    </tr>\n",
       "    <tr>\n",
       "      <th>64212</th>\n",
       "      <td>49975</td>\n",
       "      <td>2072</td>\n",
       "      <td>0.0</td>\n",
       "    </tr>\n",
       "    <tr>\n",
       "      <th>64213</th>\n",
       "      <td>49975</td>\n",
       "      <td>2072</td>\n",
       "      <td>0.0</td>\n",
       "    </tr>\n",
       "    <tr>\n",
       "      <th>64214</th>\n",
       "      <td>49975</td>\n",
       "      <td>23565</td>\n",
       "      <td>1.0</td>\n",
       "    </tr>\n",
       "    <tr>\n",
       "      <th>64224</th>\n",
       "      <td>49993</td>\n",
       "      <td>19048</td>\n",
       "      <td>0.0</td>\n",
       "    </tr>\n",
       "    <tr>\n",
       "      <th>64225</th>\n",
       "      <td>49993</td>\n",
       "      <td>26853</td>\n",
       "      <td>1.0</td>\n",
       "    </tr>\n",
       "  </tbody>\n",
       "</table>\n",
       "<p>28747 rows × 3 columns</p>\n",
       "</div>"
      ],
      "text/plain": [
       "       session_id  item_id  was_bought\n",
       "3              13    15654         0.0\n",
       "4              13    18626         1.0\n",
       "42             31    25972         0.0\n",
       "43             31    16289         0.0\n",
       "44             31     2069         0.0\n",
       "...           ...      ...         ...\n",
       "64212       49975     2072         0.0\n",
       "64213       49975     2072         0.0\n",
       "64214       49975    23565         1.0\n",
       "64224       49993    19048         0.0\n",
       "64225       49993    26853         1.0\n",
       "\n",
       "[28747 rows x 3 columns]"
      ]
     },
     "execution_count": 18,
     "metadata": {},
     "output_type": "execute_result"
    }
   ],
   "source": [
    "#df_w2v = df_processed[df_processed.session_id < 10000].sort_values([\"session_id\", \"date\"])[[\"session_id\", \"item_id\", \"was_bought\"]]\n",
    "df_w2v = df_processed[(df_processed.session_id.isin(session_ids_cand)) & (df_processed.session_id < 50000)].sort_values([\"session_id\", \"date\"])[[\"session_id\", \"item_id\", \"was_bought\"]]\n",
    "df_w2v"
   ]
  },
  {
   "cell_type": "markdown",
   "id": "39fa398f",
   "metadata": {},
   "source": [
    "In the next step, we just map the item IDs to a subsequent list of numbers (without wholes)"
   ]
  },
  {
   "cell_type": "code",
   "execution_count": 19,
   "id": "1e45ccdc",
   "metadata": {},
   "outputs": [
    {
     "data": {
      "text/plain": [
       "1"
      ]
     },
     "execution_count": 19,
     "metadata": {},
     "output_type": "execute_result"
    }
   ],
   "source": [
    "item_list = list(df_w2v.item_id.sort_values().unique())\n",
    "item_dict = {v: k for k, v in dict(zip(range(len(item_list)), item_list)).items()}\n",
    "item_dict[4]"
   ]
  },
  {
   "cell_type": "code",
   "execution_count": 20,
   "id": "befc3159",
   "metadata": {},
   "outputs": [],
   "source": [
    "item_dict_rev = {v: k for k, v in item_dict.items()}"
   ]
  },
  {
   "cell_type": "markdown",
   "id": "4ded6683",
   "metadata": {},
   "source": [
    "In the next step, we extract the viewed items (corresponding to the previous words) and purchased items (corresponding to the next words)."
   ]
  },
  {
   "cell_type": "code",
   "execution_count": 21,
   "id": "399b0520",
   "metadata": {},
   "outputs": [],
   "source": [
    "def get_values(x):\n",
    "    x = x[\"item_id\"]\n",
    "    return [item_dict[x] for x in list(x.values.ravel())]\n",
    "\n",
    "all_words = df_w2v.groupby('session_id').apply(get_values).to_list()\n",
    "\n",
    "def get_values(x):\n",
    "    x = x[\"item_id\"]\n",
    "    return [item_dict[x] for x in list(x.values.ravel())]\n",
    "\n",
    "prev_words = df_w2v[(df_w2v.was_bought==0)].groupby('session_id').apply(get_values).to_list()\n",
    "\n",
    "def get_values(x):\n",
    "    x = x[\"item_id\"]\n",
    "    return item_dict[x.values.ravel()[0]]\n",
    "\n",
    "next_words = df_w2v[(df_w2v.was_bought==1)].groupby('session_id').apply(get_values).to_list()"
   ]
  },
  {
   "cell_type": "code",
   "execution_count": 22,
   "id": "399dc2f1",
   "metadata": {
    "scrolled": true
   },
   "outputs": [
    {
     "data": {
      "text/plain": [
       "[[3943],\n",
       " [6554, 4100, 519, 519, 6688, 63, 6983, 1105],\n",
       " [5219, 5698, 2622, 4410],\n",
       " [1614, 5014, 540, 3968, 5381, 4338],\n",
       " [5002, 2634, 4018, 5002, 2634, 4187, 5002, 4187]]"
      ]
     },
     "execution_count": 22,
     "metadata": {},
     "output_type": "execute_result"
    }
   ],
   "source": [
    "prev_words[:5]"
   ]
  },
  {
   "cell_type": "code",
   "execution_count": 23,
   "id": "36bf18f4",
   "metadata": {
    "scrolled": false
   },
   "outputs": [
    {
     "data": {
      "text/plain": [
       "[4714, 2148, 2993, 5360, 6556]"
      ]
     },
     "execution_count": 23,
     "metadata": {},
     "output_type": "execute_result"
    }
   ],
   "source": [
    "next_words[:5]"
   ]
  },
  {
   "cell_type": "code",
   "execution_count": 24,
   "id": "30bcf9eb",
   "metadata": {},
   "outputs": [
    {
     "data": {
      "text/plain": [
       "7130"
      ]
     },
     "execution_count": 24,
     "metadata": {},
     "output_type": "execute_result"
    }
   ],
   "source": [
    "unique_words = [item_dict[x] for x in df_w2v[\"item_id\"].unique()]\n",
    "unique_word_index = dict((c, i) for i, c in enumerate(unique_words))\n",
    "len(unique_words)"
   ]
  },
  {
   "cell_type": "markdown",
   "id": "38408ad6",
   "metadata": {},
   "source": [
    "Sessions do usually have different lengths. Thus we take the longest session as standard session length and pad the shorter sessions with zeros in the beginning, as follows:"
   ]
  },
  {
   "cell_type": "code",
   "execution_count": 25,
   "id": "5ac4e225",
   "metadata": {},
   "outputs": [],
   "source": [
    "from tensorflow.keras.preprocessing.sequence import pad_sequences"
   ]
  },
  {
   "cell_type": "code",
   "execution_count": 26,
   "id": "31b2a1eb",
   "metadata": {},
   "outputs": [
    {
     "name": "stdout",
     "output_type": "stream",
     "text": [
      "90\n",
      "[[   0    0    0    0    0    0    0    0    0    0    0    0    0    0\n",
      "     0    0    0    0    0    0    0    0    0    0    0    0    0    0\n",
      "     0    0    0    0    0    0    0    0    0    0    0    0    0    0\n",
      "     0    0    0    0    0    0    0    0    0    0    0    0    0    0\n",
      "     0    0    0    0    0    0    0    0    0    0    0    0    0    0\n",
      "     0    0    0    0    0    0    0    0    0    0    0    0    0    0\n",
      "     0    0    0    0    0 3943]\n",
      " [   0    0    0    0    0    0    0    0    0    0    0    0    0    0\n",
      "     0    0    0    0    0    0    0    0    0    0    0    0    0    0\n",
      "     0    0    0    0    0    0    0    0    0    0    0    0    0    0\n",
      "     0    0    0    0    0    0    0    0    0    0    0    0    0    0\n",
      "     0    0    0    0    0    0    0    0    0    0    0    0    0    0\n",
      "     0    0    0    0    0    0    0    0    0    0    0    0 6554 4100\n",
      "   519  519 6688   63 6983 1105]\n",
      " [   0    0    0    0    0    0    0    0    0    0    0    0    0    0\n",
      "     0    0    0    0    0    0    0    0    0    0    0    0    0    0\n",
      "     0    0    0    0    0    0    0    0    0    0    0    0    0    0\n",
      "     0    0    0    0    0    0    0    0    0    0    0    0    0    0\n",
      "     0    0    0    0    0    0    0    0    0    0    0    0    0    0\n",
      "     0    0    0    0    0    0    0    0    0    0    0    0    0    0\n",
      "     0    0 5219 5698 2622 4410]\n",
      " [   0    0    0    0    0    0    0    0    0    0    0    0    0    0\n",
      "     0    0    0    0    0    0    0    0    0    0    0    0    0    0\n",
      "     0    0    0    0    0    0    0    0    0    0    0    0    0    0\n",
      "     0    0    0    0    0    0    0    0    0    0    0    0    0    0\n",
      "     0    0    0    0    0    0    0    0    0    0    0    0    0    0\n",
      "     0    0    0    0    0    0    0    0    0    0    0    0    0    0\n",
      "  1614 5014  540 3968 5381 4338]\n",
      " [   0    0    0    0    0    0    0    0    0    0    0    0    0    0\n",
      "     0    0    0    0    0    0    0    0    0    0    0    0    0    0\n",
      "     0    0    0    0    0    0    0    0    0    0    0    0    0    0\n",
      "     0    0    0    0    0    0    0    0    0    0    0    0    0    0\n",
      "     0    0    0    0    0    0    0    0    0    0    0    0    0    0\n",
      "     0    0    0    0    0    0    0    0    0    0    0    0 5002 2634\n",
      "  4018 5002 2634 4187 5002 4187]]\n"
     ]
    }
   ],
   "source": [
    "max_seq_length = max([len(x) for x in prev_words])\n",
    "input_seqs = np.array(pad_sequences(prev_words, maxlen=max_seq_length, padding='pre'))\n",
    "\n",
    "print(max_seq_length)\n",
    "print(input_seqs[:5])"
   ]
  },
  {
   "cell_type": "markdown",
   "id": "886186b3",
   "metadata": {},
   "source": [
    "### Embedding Matrix Preparation with Contents\n",
    "\n",
    "To reprensent each item by some feature vector, we use the item contents as an embedding."
   ]
  },
  {
   "cell_type": "code",
   "execution_count": 27,
   "id": "7c821c21",
   "metadata": {},
   "outputs": [],
   "source": [
    "embeddings_matrix = np.zeros((len(item_list), 1399))\n",
    "\n",
    "for i, item_id in enumerate(item_list):\n",
    "    idx = items_processed_df[items_processed_df.item_id == item_id].index[0]\n",
    "    embedding_vector = items_encoded[idx]\n",
    "    if embedding_vector is not None:\n",
    "        embeddings_matrix[i] = embedding_vector"
   ]
  },
  {
   "cell_type": "code",
   "execution_count": 28,
   "id": "504f33a4",
   "metadata": {},
   "outputs": [
    {
     "data": {
      "text/plain": [
       "array([[1., 0., 0., ..., 0., 0., 1.],\n",
       "       [1., 0., 0., ..., 0., 0., 1.],\n",
       "       [1., 0., 0., ..., 0., 0., 1.],\n",
       "       ...,\n",
       "       [1., 0., 0., ..., 0., 0., 1.],\n",
       "       [1., 0., 0., ..., 0., 0., 1.],\n",
       "       [0., 0., 0., ..., 0., 0., 1.]])"
      ]
     },
     "execution_count": 28,
     "metadata": {},
     "output_type": "execute_result"
    }
   ],
   "source": [
    "embeddings_matrix"
   ]
  },
  {
   "cell_type": "code",
   "execution_count": 29,
   "id": "8ace58eb",
   "metadata": {},
   "outputs": [
    {
     "data": {
      "text/plain": [
       "(7130, 1399)"
      ]
     },
     "execution_count": 29,
     "metadata": {},
     "output_type": "execute_result"
    }
   ],
   "source": [
    "embeddings_matrix.shape"
   ]
  },
  {
   "cell_type": "markdown",
   "id": "6ef4c7c4",
   "metadata": {},
   "source": [
    "## Defining and training the LSTM"
   ]
  },
  {
   "cell_type": "markdown",
   "id": "21f5dbfd",
   "metadata": {},
   "source": [
    "Let us define our LSTM model."
   ]
  },
  {
   "cell_type": "code",
   "execution_count": 30,
   "id": "2f8f90c1",
   "metadata": {},
   "outputs": [],
   "source": [
    "import tensorflow as tf\n",
    "from tensorflow.keras.optimizers import Adam, SGD"
   ]
  },
  {
   "cell_type": "code",
   "execution_count": 31,
   "id": "6dd02e94",
   "metadata": {
    "scrolled": false
   },
   "outputs": [
    {
     "name": "stderr",
     "output_type": "stream",
     "text": [
      "/opt/conda/lib/python3.9/site-packages/keras/optimizer_v2/gradient_descent.py:102: UserWarning: The `lr` argument is deprecated, use `learning_rate` instead.\n",
      "  super(SGD, self).__init__(name, **kwargs)\n"
     ]
    }
   ],
   "source": [
    "model = tf.keras.Sequential(\n",
    "    [tf.keras.layers.Embedding(input_dim = len(item_list), output_dim=1399, weights=[embeddings_matrix], input_length=max_seq_length, trainable=False),\n",
    "     tf.keras.layers.LSTM(256),\n",
    "     tf.keras.layers.Dropout(0.2),\n",
    "     tf.keras.layers.Dense(128, activation='relu'),\n",
    "     tf.keras.layers.Dense(len(item_list) , activation='softmax')\n",
    "    ])\n",
    "\n",
    "opt = SGD(lr=10**(-6))\n",
    "model.compile(optimizer=opt, loss='categorical_crossentropy', metrics=['accuracy'])"
   ]
  },
  {
   "cell_type": "markdown",
   "id": "d0196542",
   "metadata": {},
   "source": [
    "Also, we convert our output (i.e. the purchased items) to a categorical object."
   ]
  },
  {
   "cell_type": "code",
   "execution_count": 32,
   "id": "e5e275b9",
   "metadata": {
    "scrolled": true
   },
   "outputs": [
    {
     "data": {
      "text/plain": [
       "(5042, 7130)"
      ]
     },
     "execution_count": 32,
     "metadata": {},
     "output_type": "execute_result"
    }
   ],
   "source": [
    "next_words = np.array(next_words)\n",
    "outputs = tf.keras.utils.to_categorical(next_words, num_classes=len(item_list))\n",
    "outputs.shape"
   ]
  },
  {
   "cell_type": "markdown",
   "id": "9bd792a9",
   "metadata": {},
   "source": [
    "Now, we train our model."
   ]
  },
  {
   "cell_type": "code",
   "execution_count": 33,
   "id": "b434758b",
   "metadata": {},
   "outputs": [],
   "source": [
    "tf.config.run_functions_eagerly(True)"
   ]
  },
  {
   "cell_type": "code",
   "execution_count": 34,
   "id": "80462b66",
   "metadata": {
    "scrolled": false
   },
   "outputs": [
    {
     "name": "stdout",
     "output_type": "stream",
     "text": [
      "Epoch 1/10\n"
     ]
    },
    {
     "name": "stderr",
     "output_type": "stream",
     "text": [
      "/opt/conda/lib/python3.9/site-packages/tensorflow/python/data/ops/structured_function.py:264: UserWarning: Even though the `tf.config.experimental_run_functions_eagerly` option is set, this option does not apply to tf.data functions. To force eager execution of tf.data functions, please use `tf.data.experimental.enable_debug_mode()`.\n",
      "  warnings.warn(\n"
     ]
    },
    {
     "name": "stdout",
     "output_type": "stream",
     "text": [
      "16/16 [==============================] - 18s 1s/step - loss: 8.8727 - accuracy: 0.0000e+00 - val_loss: 8.8733 - val_accuracy: 0.0000e+00\n",
      "Epoch 2/10\n",
      "16/16 [==============================] - 18s 1s/step - loss: 8.8729 - accuracy: 0.0000e+00 - val_loss: 8.8733 - val_accuracy: 0.0000e+00\n",
      "Epoch 3/10\n",
      "16/16 [==============================] - 18s 1s/step - loss: 8.8724 - accuracy: 4.9591e-04 - val_loss: 8.8733 - val_accuracy: 0.0000e+00\n",
      "Epoch 4/10\n",
      "16/16 [==============================] - 18s 1s/step - loss: 8.8729 - accuracy: 2.4795e-04 - val_loss: 8.8733 - val_accuracy: 0.0000e+00\n",
      "Epoch 5/10\n",
      "16/16 [==============================] - 17s 1s/step - loss: 8.8728 - accuracy: 0.0000e+00 - val_loss: 8.8733 - val_accuracy: 0.0000e+00\n",
      "Epoch 6/10\n",
      "16/16 [==============================] - 20s 1s/step - loss: 8.8728 - accuracy: 0.0000e+00 - val_loss: 8.8733 - val_accuracy: 0.0000e+00\n",
      "Epoch 7/10\n",
      "16/16 [==============================] - 23s 1s/step - loss: 8.8728 - accuracy: 0.0000e+00 - val_loss: 8.8733 - val_accuracy: 0.0000e+00\n",
      "Epoch 8/10\n",
      "16/16 [==============================] - 23s 1s/step - loss: 8.8731 - accuracy: 2.4795e-04 - val_loss: 8.8733 - val_accuracy: 0.0000e+00\n",
      "Epoch 9/10\n",
      "16/16 [==============================] - 23s 1s/step - loss: 8.8730 - accuracy: 0.0000e+00 - val_loss: 8.8733 - val_accuracy: 0.0000e+00\n",
      "Epoch 10/10\n",
      "16/16 [==============================] - 23s 1s/step - loss: 8.8726 - accuracy: 4.9591e-04 - val_loss: 8.8733 - val_accuracy: 0.0000e+00\n"
     ]
    }
   ],
   "source": [
    "history = model.fit(input_seqs, outputs, epochs=10, validation_split=0.2, verbose=1, batch_size=256)"
   ]
  },
  {
   "cell_type": "markdown",
   "id": "aae551c7",
   "metadata": {},
   "source": [
    "## Prediction on test data"
   ]
  },
  {
   "cell_type": "markdown",
   "id": "0da52f6f",
   "metadata": {},
   "source": [
    "Let us read in the test data set."
   ]
  },
  {
   "cell_type": "code",
   "execution_count": 35,
   "id": "65410001",
   "metadata": {},
   "outputs": [
    {
     "data": {
      "text/html": [
       "<div>\n",
       "<style scoped>\n",
       "    .dataframe tbody tr th:only-of-type {\n",
       "        vertical-align: middle;\n",
       "    }\n",
       "\n",
       "    .dataframe tbody tr th {\n",
       "        vertical-align: top;\n",
       "    }\n",
       "\n",
       "    .dataframe thead th {\n",
       "        text-align: right;\n",
       "    }\n",
       "</style>\n",
       "<table border=\"1\" class=\"dataframe\">\n",
       "  <thead>\n",
       "    <tr style=\"text-align: right;\">\n",
       "      <th></th>\n",
       "      <th>session_id</th>\n",
       "      <th>item_id</th>\n",
       "      <th>date</th>\n",
       "    </tr>\n",
       "  </thead>\n",
       "  <tbody>\n",
       "    <tr>\n",
       "      <th>0</th>\n",
       "      <td>126</td>\n",
       "      <td>9655</td>\n",
       "      <td>2020-12-18 21:25:00.373</td>\n",
       "    </tr>\n",
       "    <tr>\n",
       "      <th>1</th>\n",
       "      <td>126</td>\n",
       "      <td>9655</td>\n",
       "      <td>2020-12-18 21:19:48.093</td>\n",
       "    </tr>\n",
       "    <tr>\n",
       "      <th>2</th>\n",
       "      <td>3234</td>\n",
       "      <td>13214</td>\n",
       "      <td>2020-09-20 20:10:42.039</td>\n",
       "    </tr>\n",
       "    <tr>\n",
       "      <th>3</th>\n",
       "      <td>3234</td>\n",
       "      <td>13214</td>\n",
       "      <td>2020-09-20 20:11:53.966</td>\n",
       "    </tr>\n",
       "    <tr>\n",
       "      <th>4</th>\n",
       "      <td>3234</td>\n",
       "      <td>3173</td>\n",
       "      <td>2020-09-20 20:06:13.217</td>\n",
       "    </tr>\n",
       "    <tr>\n",
       "      <th>...</th>\n",
       "      <td>...</td>\n",
       "      <td>...</td>\n",
       "      <td>...</td>\n",
       "    </tr>\n",
       "    <tr>\n",
       "      <th>197619</th>\n",
       "      <td>186456690</td>\n",
       "      <td>10471</td>\n",
       "      <td>2021-05-02 17:41:18.737</td>\n",
       "    </tr>\n",
       "    <tr>\n",
       "      <th>197620</th>\n",
       "      <td>186456690</td>\n",
       "      <td>13385</td>\n",
       "      <td>2021-05-02 17:43:41.78</td>\n",
       "    </tr>\n",
       "    <tr>\n",
       "      <th>197621</th>\n",
       "      <td>186456690</td>\n",
       "      <td>10471</td>\n",
       "      <td>2021-05-02 17:40:10.625</td>\n",
       "    </tr>\n",
       "    <tr>\n",
       "      <th>197622</th>\n",
       "      <td>186456690</td>\n",
       "      <td>5382</td>\n",
       "      <td>2021-05-02 17:40:50.001</td>\n",
       "    </tr>\n",
       "    <tr>\n",
       "      <th>197623</th>\n",
       "      <td>186479748</td>\n",
       "      <td>25357</td>\n",
       "      <td>2020-11-27 20:08:37.262</td>\n",
       "    </tr>\n",
       "  </tbody>\n",
       "</table>\n",
       "<p>197624 rows × 3 columns</p>\n",
       "</div>"
      ],
      "text/plain": [
       "        session_id  item_id                     date\n",
       "0              126     9655  2020-12-18 21:25:00.373\n",
       "1              126     9655  2020-12-18 21:19:48.093\n",
       "2             3234    13214  2020-09-20 20:10:42.039\n",
       "3             3234    13214  2020-09-20 20:11:53.966\n",
       "4             3234     3173  2020-09-20 20:06:13.217\n",
       "...            ...      ...                      ...\n",
       "197619   186456690    10471  2021-05-02 17:41:18.737\n",
       "197620   186456690    13385   2021-05-02 17:43:41.78\n",
       "197621   186456690    10471  2021-05-02 17:40:10.625\n",
       "197622   186456690     5382  2021-05-02 17:40:50.001\n",
       "197623   186479748    25357  2020-11-27 20:08:37.262\n",
       "\n",
       "[197624 rows x 3 columns]"
      ]
     },
     "execution_count": 35,
     "metadata": {},
     "output_type": "execute_result"
    }
   ],
   "source": [
    "import pandas as pd\n",
    "import os\n",
    "import numpy as np\n",
    "\n",
    "base_path_test = \"~/shared/data/project/test\"\n",
    "\n",
    "\n",
    "test_df = pd.read_csv(os.path.join(base_path_test, \"test_sessions.csv\"))\n",
    "\n",
    "test_df"
   ]
  },
  {
   "cell_type": "markdown",
   "id": "45835770",
   "metadata": {},
   "source": [
    "In order to not exceed the RAM, we split the test dataframe into sub-dataframes, which will be predicted batch by batch."
   ]
  },
  {
   "cell_type": "code",
   "execution_count": 36,
   "id": "7f6e6aaf",
   "metadata": {},
   "outputs": [],
   "source": [
    "session_id_limits = list(range(0, test_df.session_id.max() + 10000000, 10000000))"
   ]
  },
  {
   "cell_type": "code",
   "execution_count": 37,
   "id": "b76aad93",
   "metadata": {},
   "outputs": [],
   "source": [
    "test_dfs = []\n",
    "for i in range(len(session_id_limits)-1):\n",
    "    session_id_limit1 = session_id_limits[i]\n",
    "    session_id_limit2 = session_id_limits[i+1]\n",
    "    test_df_small = test_df[(test_df.session_id >= session_id_limit1) & (test_df.session_id < session_id_limit2)]\n",
    "    test_dfs.append(test_df_small)"
   ]
  },
  {
   "cell_type": "code",
   "execution_count": 38,
   "id": "d3d5d424",
   "metadata": {},
   "outputs": [
    {
     "data": {
      "text/plain": [
       "19"
      ]
     },
     "execution_count": 38,
     "metadata": {},
     "output_type": "execute_result"
    }
   ],
   "source": [
    "len(test_dfs)"
   ]
  },
  {
   "cell_type": "code",
   "execution_count": 39,
   "id": "44075f30",
   "metadata": {},
   "outputs": [],
   "source": [
    "def get_values(x):\n",
    "    x = x[\"item_id\"]\n",
    "    return [item_dict[x] for x in list(x.values.ravel()) if x in item_dict.keys()]"
   ]
  },
  {
   "cell_type": "code",
   "execution_count": 40,
   "id": "fc21c65d",
   "metadata": {},
   "outputs": [
    {
     "data": {
      "text/plain": [
       "[1, 2, 4, 5]"
      ]
     },
     "execution_count": 40,
     "metadata": {},
     "output_type": "execute_result"
    }
   ],
   "source": [
    "candidate_items_keys = [item_dict[x] for x in candidate_items if x in item_dict.keys()]\n",
    "candidate_items_keys[:4]"
   ]
  },
  {
   "cell_type": "markdown",
   "id": "619a8019",
   "metadata": {},
   "source": [
    "Now we predict using our LSTM model. For this we need to prepare the data in the same fashion as above.\n",
    "From the result, we extract the 100 items with the largest scores."
   ]
  },
  {
   "cell_type": "code",
   "execution_count": 41,
   "id": "f4c8482f",
   "metadata": {
    "scrolled": false
   },
   "outputs": [
    {
     "name": "stdout",
     "output_type": "stream",
     "text": [
      "0\n"
     ]
    },
    {
     "name": "stderr",
     "output_type": "stream",
     "text": [
      "/opt/conda/lib/python3.9/site-packages/tensorflow/python/data/ops/structured_function.py:264: UserWarning: Even though the `tf.config.experimental_run_functions_eagerly` option is set, this option does not apply to tf.data functions. To force eager execution of tf.data functions, please use `tf.data.experimental.enable_debug_mode()`.\n",
      "  warnings.warn(\n"
     ]
    },
    {
     "name": "stdout",
     "output_type": "stream",
     "text": [
      "1\n"
     ]
    },
    {
     "name": "stderr",
     "output_type": "stream",
     "text": [
      "/opt/conda/lib/python3.9/site-packages/tensorflow/python/data/ops/structured_function.py:264: UserWarning: Even though the `tf.config.experimental_run_functions_eagerly` option is set, this option does not apply to tf.data functions. To force eager execution of tf.data functions, please use `tf.data.experimental.enable_debug_mode()`.\n",
      "  warnings.warn(\n"
     ]
    },
    {
     "name": "stdout",
     "output_type": "stream",
     "text": [
      "2\n"
     ]
    },
    {
     "name": "stderr",
     "output_type": "stream",
     "text": [
      "/opt/conda/lib/python3.9/site-packages/tensorflow/python/data/ops/structured_function.py:264: UserWarning: Even though the `tf.config.experimental_run_functions_eagerly` option is set, this option does not apply to tf.data functions. To force eager execution of tf.data functions, please use `tf.data.experimental.enable_debug_mode()`.\n",
      "  warnings.warn(\n"
     ]
    },
    {
     "name": "stdout",
     "output_type": "stream",
     "text": [
      "3\n"
     ]
    },
    {
     "name": "stderr",
     "output_type": "stream",
     "text": [
      "/opt/conda/lib/python3.9/site-packages/tensorflow/python/data/ops/structured_function.py:264: UserWarning: Even though the `tf.config.experimental_run_functions_eagerly` option is set, this option does not apply to tf.data functions. To force eager execution of tf.data functions, please use `tf.data.experimental.enable_debug_mode()`.\n",
      "  warnings.warn(\n"
     ]
    },
    {
     "name": "stdout",
     "output_type": "stream",
     "text": [
      "4\n"
     ]
    },
    {
     "name": "stderr",
     "output_type": "stream",
     "text": [
      "/opt/conda/lib/python3.9/site-packages/tensorflow/python/data/ops/structured_function.py:264: UserWarning: Even though the `tf.config.experimental_run_functions_eagerly` option is set, this option does not apply to tf.data functions. To force eager execution of tf.data functions, please use `tf.data.experimental.enable_debug_mode()`.\n",
      "  warnings.warn(\n"
     ]
    },
    {
     "name": "stdout",
     "output_type": "stream",
     "text": [
      "5\n"
     ]
    },
    {
     "name": "stderr",
     "output_type": "stream",
     "text": [
      "/opt/conda/lib/python3.9/site-packages/tensorflow/python/data/ops/structured_function.py:264: UserWarning: Even though the `tf.config.experimental_run_functions_eagerly` option is set, this option does not apply to tf.data functions. To force eager execution of tf.data functions, please use `tf.data.experimental.enable_debug_mode()`.\n",
      "  warnings.warn(\n"
     ]
    },
    {
     "name": "stdout",
     "output_type": "stream",
     "text": [
      "6\n"
     ]
    },
    {
     "name": "stderr",
     "output_type": "stream",
     "text": [
      "/opt/conda/lib/python3.9/site-packages/tensorflow/python/data/ops/structured_function.py:264: UserWarning: Even though the `tf.config.experimental_run_functions_eagerly` option is set, this option does not apply to tf.data functions. To force eager execution of tf.data functions, please use `tf.data.experimental.enable_debug_mode()`.\n",
      "  warnings.warn(\n"
     ]
    },
    {
     "name": "stdout",
     "output_type": "stream",
     "text": [
      "7\n"
     ]
    },
    {
     "name": "stderr",
     "output_type": "stream",
     "text": [
      "/opt/conda/lib/python3.9/site-packages/tensorflow/python/data/ops/structured_function.py:264: UserWarning: Even though the `tf.config.experimental_run_functions_eagerly` option is set, this option does not apply to tf.data functions. To force eager execution of tf.data functions, please use `tf.data.experimental.enable_debug_mode()`.\n",
      "  warnings.warn(\n"
     ]
    },
    {
     "name": "stdout",
     "output_type": "stream",
     "text": [
      "8\n"
     ]
    },
    {
     "name": "stderr",
     "output_type": "stream",
     "text": [
      "/opt/conda/lib/python3.9/site-packages/tensorflow/python/data/ops/structured_function.py:264: UserWarning: Even though the `tf.config.experimental_run_functions_eagerly` option is set, this option does not apply to tf.data functions. To force eager execution of tf.data functions, please use `tf.data.experimental.enable_debug_mode()`.\n",
      "  warnings.warn(\n"
     ]
    },
    {
     "name": "stdout",
     "output_type": "stream",
     "text": [
      "9\n"
     ]
    },
    {
     "name": "stderr",
     "output_type": "stream",
     "text": [
      "/opt/conda/lib/python3.9/site-packages/tensorflow/python/data/ops/structured_function.py:264: UserWarning: Even though the `tf.config.experimental_run_functions_eagerly` option is set, this option does not apply to tf.data functions. To force eager execution of tf.data functions, please use `tf.data.experimental.enable_debug_mode()`.\n",
      "  warnings.warn(\n"
     ]
    },
    {
     "name": "stdout",
     "output_type": "stream",
     "text": [
      "10\n"
     ]
    },
    {
     "name": "stderr",
     "output_type": "stream",
     "text": [
      "/opt/conda/lib/python3.9/site-packages/tensorflow/python/data/ops/structured_function.py:264: UserWarning: Even though the `tf.config.experimental_run_functions_eagerly` option is set, this option does not apply to tf.data functions. To force eager execution of tf.data functions, please use `tf.data.experimental.enable_debug_mode()`.\n",
      "  warnings.warn(\n"
     ]
    },
    {
     "name": "stdout",
     "output_type": "stream",
     "text": [
      "11\n"
     ]
    },
    {
     "name": "stderr",
     "output_type": "stream",
     "text": [
      "/opt/conda/lib/python3.9/site-packages/tensorflow/python/data/ops/structured_function.py:264: UserWarning: Even though the `tf.config.experimental_run_functions_eagerly` option is set, this option does not apply to tf.data functions. To force eager execution of tf.data functions, please use `tf.data.experimental.enable_debug_mode()`.\n",
      "  warnings.warn(\n"
     ]
    },
    {
     "name": "stdout",
     "output_type": "stream",
     "text": [
      "12\n"
     ]
    },
    {
     "name": "stderr",
     "output_type": "stream",
     "text": [
      "/opt/conda/lib/python3.9/site-packages/tensorflow/python/data/ops/structured_function.py:264: UserWarning: Even though the `tf.config.experimental_run_functions_eagerly` option is set, this option does not apply to tf.data functions. To force eager execution of tf.data functions, please use `tf.data.experimental.enable_debug_mode()`.\n",
      "  warnings.warn(\n"
     ]
    },
    {
     "name": "stdout",
     "output_type": "stream",
     "text": [
      "13\n"
     ]
    },
    {
     "name": "stderr",
     "output_type": "stream",
     "text": [
      "/opt/conda/lib/python3.9/site-packages/tensorflow/python/data/ops/structured_function.py:264: UserWarning: Even though the `tf.config.experimental_run_functions_eagerly` option is set, this option does not apply to tf.data functions. To force eager execution of tf.data functions, please use `tf.data.experimental.enable_debug_mode()`.\n",
      "  warnings.warn(\n"
     ]
    },
    {
     "name": "stdout",
     "output_type": "stream",
     "text": [
      "14\n"
     ]
    },
    {
     "name": "stderr",
     "output_type": "stream",
     "text": [
      "/opt/conda/lib/python3.9/site-packages/tensorflow/python/data/ops/structured_function.py:264: UserWarning: Even though the `tf.config.experimental_run_functions_eagerly` option is set, this option does not apply to tf.data functions. To force eager execution of tf.data functions, please use `tf.data.experimental.enable_debug_mode()`.\n",
      "  warnings.warn(\n"
     ]
    },
    {
     "name": "stdout",
     "output_type": "stream",
     "text": [
      "15\n"
     ]
    },
    {
     "name": "stderr",
     "output_type": "stream",
     "text": [
      "/opt/conda/lib/python3.9/site-packages/tensorflow/python/data/ops/structured_function.py:264: UserWarning: Even though the `tf.config.experimental_run_functions_eagerly` option is set, this option does not apply to tf.data functions. To force eager execution of tf.data functions, please use `tf.data.experimental.enable_debug_mode()`.\n",
      "  warnings.warn(\n"
     ]
    },
    {
     "name": "stdout",
     "output_type": "stream",
     "text": [
      "16\n"
     ]
    },
    {
     "name": "stderr",
     "output_type": "stream",
     "text": [
      "/opt/conda/lib/python3.9/site-packages/tensorflow/python/data/ops/structured_function.py:264: UserWarning: Even though the `tf.config.experimental_run_functions_eagerly` option is set, this option does not apply to tf.data functions. To force eager execution of tf.data functions, please use `tf.data.experimental.enable_debug_mode()`.\n",
      "  warnings.warn(\n"
     ]
    },
    {
     "name": "stdout",
     "output_type": "stream",
     "text": [
      "17\n"
     ]
    },
    {
     "name": "stderr",
     "output_type": "stream",
     "text": [
      "/opt/conda/lib/python3.9/site-packages/tensorflow/python/data/ops/structured_function.py:264: UserWarning: Even though the `tf.config.experimental_run_functions_eagerly` option is set, this option does not apply to tf.data functions. To force eager execution of tf.data functions, please use `tf.data.experimental.enable_debug_mode()`.\n",
      "  warnings.warn(\n"
     ]
    },
    {
     "name": "stdout",
     "output_type": "stream",
     "text": [
      "18\n"
     ]
    },
    {
     "name": "stderr",
     "output_type": "stream",
     "text": [
      "/opt/conda/lib/python3.9/site-packages/tensorflow/python/data/ops/structured_function.py:264: UserWarning: Even though the `tf.config.experimental_run_functions_eagerly` option is set, this option does not apply to tf.data functions. To force eager execution of tf.data functions, please use `tf.data.experimental.enable_debug_mode()`.\n",
      "  warnings.warn(\n"
     ]
    },
    {
     "data": {
      "text/html": [
       "<div>\n",
       "<style scoped>\n",
       "    .dataframe tbody tr th:only-of-type {\n",
       "        vertical-align: middle;\n",
       "    }\n",
       "\n",
       "    .dataframe tbody tr th {\n",
       "        vertical-align: top;\n",
       "    }\n",
       "\n",
       "    .dataframe thead th {\n",
       "        text-align: right;\n",
       "    }\n",
       "</style>\n",
       "<table border=\"1\" class=\"dataframe\">\n",
       "  <thead>\n",
       "    <tr style=\"text-align: right;\">\n",
       "      <th></th>\n",
       "      <th>session_id</th>\n",
       "      <th>item_id</th>\n",
       "      <th>rank</th>\n",
       "    </tr>\n",
       "  </thead>\n",
       "  <tbody>\n",
       "    <tr>\n",
       "      <th>0</th>\n",
       "      <td>126</td>\n",
       "      <td>14447</td>\n",
       "      <td>1</td>\n",
       "    </tr>\n",
       "    <tr>\n",
       "      <th>1</th>\n",
       "      <td>126</td>\n",
       "      <td>25972</td>\n",
       "      <td>2</td>\n",
       "    </tr>\n",
       "    <tr>\n",
       "      <th>2</th>\n",
       "      <td>126</td>\n",
       "      <td>5429</td>\n",
       "      <td>3</td>\n",
       "    </tr>\n",
       "    <tr>\n",
       "      <th>3</th>\n",
       "      <td>126</td>\n",
       "      <td>16767</td>\n",
       "      <td>4</td>\n",
       "    </tr>\n",
       "    <tr>\n",
       "      <th>4</th>\n",
       "      <td>126</td>\n",
       "      <td>27409</td>\n",
       "      <td>5</td>\n",
       "    </tr>\n",
       "    <tr>\n",
       "      <th>...</th>\n",
       "      <td>...</td>\n",
       "      <td>...</td>\n",
       "      <td>...</td>\n",
       "    </tr>\n",
       "    <tr>\n",
       "      <th>4999995</th>\n",
       "      <td>186479748</td>\n",
       "      <td>11649</td>\n",
       "      <td>96</td>\n",
       "    </tr>\n",
       "    <tr>\n",
       "      <th>4999996</th>\n",
       "      <td>186479748</td>\n",
       "      <td>17935</td>\n",
       "      <td>97</td>\n",
       "    </tr>\n",
       "    <tr>\n",
       "      <th>4999997</th>\n",
       "      <td>186479748</td>\n",
       "      <td>16441</td>\n",
       "      <td>98</td>\n",
       "    </tr>\n",
       "    <tr>\n",
       "      <th>4999998</th>\n",
       "      <td>186479748</td>\n",
       "      <td>7081</td>\n",
       "      <td>99</td>\n",
       "    </tr>\n",
       "    <tr>\n",
       "      <th>4999999</th>\n",
       "      <td>186479748</td>\n",
       "      <td>441</td>\n",
       "      <td>100</td>\n",
       "    </tr>\n",
       "  </tbody>\n",
       "</table>\n",
       "<p>5000000 rows × 3 columns</p>\n",
       "</div>"
      ],
      "text/plain": [
       "         session_id  item_id  rank\n",
       "0               126    14447     1\n",
       "1               126    25972     2\n",
       "2               126     5429     3\n",
       "3               126    16767     4\n",
       "4               126    27409     5\n",
       "...             ...      ...   ...\n",
       "4999995   186479748    11649    96\n",
       "4999996   186479748    17935    97\n",
       "4999997   186479748    16441    98\n",
       "4999998   186479748     7081    99\n",
       "4999999   186479748      441   100\n",
       "\n",
       "[5000000 rows x 3 columns]"
      ]
     },
     "execution_count": 41,
     "metadata": {},
     "output_type": "execute_result"
    }
   ],
   "source": [
    "candidate_rank_dfs = []\n",
    "j = 0\n",
    "for test_df_small in test_dfs:\n",
    "    print(j)\n",
    "    j+=1\n",
    "    \n",
    "    # data preparation\n",
    "    prev_words_test = test_df_small.groupby('session_id').apply(get_values).to_list()\n",
    "    input_seqs_test = np.array(pad_sequences(prev_words_test, maxlen=max_seq_length, padding='pre'))\n",
    "    \n",
    "    # lstm prediction\n",
    "    preds = model.predict(input_seqs_test)\n",
    "\n",
    "    # sorting the predictions by highest score\n",
    "    arr = preds.argsort().astype(\"float32\")\n",
    "    # retrieving only the candidate items\n",
    "    cond = np.isin(arr.astype(int), candidate_items_keys)\n",
    "    arr[~cond] = np.nan\n",
    "    arrlist = arr.tolist()\n",
    "    \n",
    "    # creating the ranks\n",
    "    for i in range(len(test_df_small.session_id.unique())):\n",
    "        rank_dict = {}\n",
    "        session_id  = test_df_small.session_id.unique()[i]\n",
    "\n",
    "        # get the scores from the lecture\n",
    "        scores = arrlist[i]\n",
    "        y = [x for x in scores if x>=0 and x in item_dict.keys()] # x>=0 removes the nan values\n",
    "        ranked_list = [item_dict_rev[x] for x in y[-100:]] # get the top 100 items\n",
    "\n",
    "        for num, item in enumerate(ranked_list):\n",
    "            rank_dict[item] = len(ranked_list) - num # this is just mapping the item to its rank\n",
    "        \n",
    "        candidate_rank_df = pd.DataFrame(rank_dict.items(), columns = [\"item_id\", \"rank\"]).sort_values(\"rank\")\n",
    "        candidate_rank_df[\"session_id\"] = session_id\n",
    "        candidate_rank_dfs.append(candidate_rank_df)\n",
    "    \n",
    "candidate_rank_df = pd.concat(candidate_rank_dfs)\n",
    "candidate_rank_df = candidate_rank_df[[\"session_id\", \"item_id\", \"rank\"]].reset_index(drop=True)\n",
    "candidate_rank_df"
   ]
  },
  {
   "cell_type": "code",
   "execution_count": 42,
   "id": "29c8875a",
   "metadata": {},
   "outputs": [
    {
     "data": {
      "text/html": [
       "<div>\n",
       "<style scoped>\n",
       "    .dataframe tbody tr th:only-of-type {\n",
       "        vertical-align: middle;\n",
       "    }\n",
       "\n",
       "    .dataframe tbody tr th {\n",
       "        vertical-align: top;\n",
       "    }\n",
       "\n",
       "    .dataframe thead th {\n",
       "        text-align: right;\n",
       "    }\n",
       "</style>\n",
       "<table border=\"1\" class=\"dataframe\">\n",
       "  <thead>\n",
       "    <tr style=\"text-align: right;\">\n",
       "      <th></th>\n",
       "      <th>session_id</th>\n",
       "      <th>item_id</th>\n",
       "      <th>rank</th>\n",
       "    </tr>\n",
       "  </thead>\n",
       "  <tbody>\n",
       "    <tr>\n",
       "      <th>0</th>\n",
       "      <td>126</td>\n",
       "      <td>14447</td>\n",
       "      <td>1</td>\n",
       "    </tr>\n",
       "    <tr>\n",
       "      <th>1</th>\n",
       "      <td>126</td>\n",
       "      <td>25972</td>\n",
       "      <td>2</td>\n",
       "    </tr>\n",
       "    <tr>\n",
       "      <th>2</th>\n",
       "      <td>126</td>\n",
       "      <td>5429</td>\n",
       "      <td>3</td>\n",
       "    </tr>\n",
       "    <tr>\n",
       "      <th>3</th>\n",
       "      <td>126</td>\n",
       "      <td>16767</td>\n",
       "      <td>4</td>\n",
       "    </tr>\n",
       "    <tr>\n",
       "      <th>4</th>\n",
       "      <td>126</td>\n",
       "      <td>27409</td>\n",
       "      <td>5</td>\n",
       "    </tr>\n",
       "    <tr>\n",
       "      <th>...</th>\n",
       "      <td>...</td>\n",
       "      <td>...</td>\n",
       "      <td>...</td>\n",
       "    </tr>\n",
       "    <tr>\n",
       "      <th>4999995</th>\n",
       "      <td>186479748</td>\n",
       "      <td>11649</td>\n",
       "      <td>96</td>\n",
       "    </tr>\n",
       "    <tr>\n",
       "      <th>4999996</th>\n",
       "      <td>186479748</td>\n",
       "      <td>17935</td>\n",
       "      <td>97</td>\n",
       "    </tr>\n",
       "    <tr>\n",
       "      <th>4999997</th>\n",
       "      <td>186479748</td>\n",
       "      <td>16441</td>\n",
       "      <td>98</td>\n",
       "    </tr>\n",
       "    <tr>\n",
       "      <th>4999998</th>\n",
       "      <td>186479748</td>\n",
       "      <td>7081</td>\n",
       "      <td>99</td>\n",
       "    </tr>\n",
       "    <tr>\n",
       "      <th>4999999</th>\n",
       "      <td>186479748</td>\n",
       "      <td>441</td>\n",
       "      <td>100</td>\n",
       "    </tr>\n",
       "  </tbody>\n",
       "</table>\n",
       "<p>5000000 rows × 3 columns</p>\n",
       "</div>"
      ],
      "text/plain": [
       "         session_id  item_id  rank\n",
       "0               126    14447     1\n",
       "1               126    25972     2\n",
       "2               126     5429     3\n",
       "3               126    16767     4\n",
       "4               126    27409     5\n",
       "...             ...      ...   ...\n",
       "4999995   186479748    11649    96\n",
       "4999996   186479748    17935    97\n",
       "4999997   186479748    16441    98\n",
       "4999998   186479748     7081    99\n",
       "4999999   186479748      441   100\n",
       "\n",
       "[5000000 rows x 3 columns]"
      ]
     },
     "execution_count": 42,
     "metadata": {},
     "output_type": "execute_result"
    }
   ],
   "source": [
    "candidate_rank_df"
   ]
  },
  {
   "cell_type": "markdown",
   "id": "667bd5d2",
   "metadata": {},
   "source": [
    "Finally, we write the result to a csv file."
   ]
  },
  {
   "cell_type": "code",
   "execution_count": 43,
   "id": "46c2bafc",
   "metadata": {},
   "outputs": [],
   "source": [
    "candidate_rank_df.to_csv(\"results_lstm_with_contents.csv\", index=False)"
   ]
  },
  {
   "cell_type": "markdown",
   "id": "15f8f71a",
   "metadata": {},
   "source": [
    "## Final checks"
   ]
  },
  {
   "cell_type": "markdown",
   "id": "aef2c0cb",
   "metadata": {},
   "source": [
    "Number of predicted sessions."
   ]
  },
  {
   "cell_type": "code",
   "execution_count": 44,
   "id": "eed386c9",
   "metadata": {
    "scrolled": false
   },
   "outputs": [
    {
     "data": {
      "text/plain": [
       "50000"
      ]
     },
     "execution_count": 44,
     "metadata": {},
     "output_type": "execute_result"
    }
   ],
   "source": [
    "len(candidate_rank_df.session_id.unique())"
   ]
  },
  {
   "cell_type": "markdown",
   "id": "f9533720",
   "metadata": {},
   "source": [
    "Number of recommendations of non-candidate items. Should be 0."
   ]
  },
  {
   "cell_type": "code",
   "execution_count": 45,
   "id": "625bf326",
   "metadata": {
    "scrolled": true
   },
   "outputs": [
    {
     "data": {
      "text/plain": [
       "0"
      ]
     },
     "execution_count": 45,
     "metadata": {},
     "output_type": "execute_result"
    }
   ],
   "source": [
    "(~candidate_rank_df.item_id.isin(candidate_items)).sum()"
   ]
  },
  {
   "cell_type": "markdown",
   "id": "6e31c928",
   "metadata": {},
   "source": [
    "Number of sessions to predict."
   ]
  },
  {
   "cell_type": "code",
   "execution_count": 46,
   "id": "3cb651a4",
   "metadata": {
    "scrolled": true
   },
   "outputs": [
    {
     "data": {
      "text/plain": [
       "50000"
      ]
     },
     "execution_count": 46,
     "metadata": {},
     "output_type": "execute_result"
    }
   ],
   "source": [
    "len(test_df.session_id.unique())"
   ]
  },
  {
   "cell_type": "markdown",
   "id": "3d1b7a58",
   "metadata": {},
   "source": [
    "List of items ranked first at least once."
   ]
  },
  {
   "cell_type": "code",
   "execution_count": 47,
   "id": "d8d461ba",
   "metadata": {
    "scrolled": true
   },
   "outputs": [
    {
     "data": {
      "text/plain": [
       "array([14447, 25972,  5429, 15665, 25650, 25154, 16767, 12993, 14130,\n",
       "       15533,  7625, 23626, 24229,  1799,  8829, 26786, 19735, 27952,\n",
       "       18832,  1916, 28058, 26902,  2814, 23946,  5138,  1219,  3955])"
      ]
     },
     "execution_count": 47,
     "metadata": {},
     "output_type": "execute_result"
    }
   ],
   "source": [
    "candidate_rank_df[candidate_rank_df[\"rank\"] == 1].item_id.unique()"
   ]
  },
  {
   "cell_type": "code",
   "execution_count": null,
   "id": "8c8db3e0",
   "metadata": {},
   "outputs": [],
   "source": []
  }
 ],
 "metadata": {
  "kernelspec": {
   "display_name": "Python 3 (ipykernel)",
   "language": "python",
   "name": "python3"
  },
  "language_info": {
   "codemirror_mode": {
    "name": "ipython",
    "version": 3
   },
   "file_extension": ".py",
   "mimetype": "text/x-python",
   "name": "python",
   "nbconvert_exporter": "python",
   "pygments_lexer": "ipython3",
   "version": "3.9.10"
  }
 },
 "nbformat": 4,
 "nbformat_minor": 5
}
