{
 "cells": [
  {
   "cell_type": "code",
   "execution_count": 1,
   "id": "856c42a1",
   "metadata": {},
   "outputs": [],
   "source": [
    "import pandas as pd\n",
    "import os\n",
    "import numpy as np"
   ]
  },
  {
   "cell_type": "code",
   "execution_count": 2,
   "id": "6db5e0e4",
   "metadata": {},
   "outputs": [],
   "source": [
    "base_path_train = \"~/shared/data/project/test\"\n",
    "\n",
    "\n",
    "test_df = pd.read_csv(os.path.join(base_path_train, \"test_sessions.csv\"))"
   ]
  },
  {
   "cell_type": "code",
   "execution_count": 3,
   "id": "558c517e",
   "metadata": {},
   "outputs": [
    {
     "data": {
      "text/html": [
       "<div>\n",
       "<style scoped>\n",
       "    .dataframe tbody tr th:only-of-type {\n",
       "        vertical-align: middle;\n",
       "    }\n",
       "\n",
       "    .dataframe tbody tr th {\n",
       "        vertical-align: top;\n",
       "    }\n",
       "\n",
       "    .dataframe thead th {\n",
       "        text-align: right;\n",
       "    }\n",
       "</style>\n",
       "<table border=\"1\" class=\"dataframe\">\n",
       "  <thead>\n",
       "    <tr style=\"text-align: right;\">\n",
       "      <th></th>\n",
       "      <th>session_id</th>\n",
       "      <th>item_id</th>\n",
       "      <th>date</th>\n",
       "    </tr>\n",
       "  </thead>\n",
       "  <tbody>\n",
       "    <tr>\n",
       "      <th>0</th>\n",
       "      <td>126</td>\n",
       "      <td>9655</td>\n",
       "      <td>2020-12-18 21:25:00.373</td>\n",
       "    </tr>\n",
       "    <tr>\n",
       "      <th>1</th>\n",
       "      <td>126</td>\n",
       "      <td>9655</td>\n",
       "      <td>2020-12-18 21:19:48.093</td>\n",
       "    </tr>\n",
       "    <tr>\n",
       "      <th>2</th>\n",
       "      <td>3234</td>\n",
       "      <td>13214</td>\n",
       "      <td>2020-09-20 20:10:42.039</td>\n",
       "    </tr>\n",
       "    <tr>\n",
       "      <th>3</th>\n",
       "      <td>3234</td>\n",
       "      <td>13214</td>\n",
       "      <td>2020-09-20 20:11:53.966</td>\n",
       "    </tr>\n",
       "    <tr>\n",
       "      <th>4</th>\n",
       "      <td>3234</td>\n",
       "      <td>3173</td>\n",
       "      <td>2020-09-20 20:06:13.217</td>\n",
       "    </tr>\n",
       "    <tr>\n",
       "      <th>...</th>\n",
       "      <td>...</td>\n",
       "      <td>...</td>\n",
       "      <td>...</td>\n",
       "    </tr>\n",
       "    <tr>\n",
       "      <th>197619</th>\n",
       "      <td>186456690</td>\n",
       "      <td>10471</td>\n",
       "      <td>2021-05-02 17:41:18.737</td>\n",
       "    </tr>\n",
       "    <tr>\n",
       "      <th>197620</th>\n",
       "      <td>186456690</td>\n",
       "      <td>13385</td>\n",
       "      <td>2021-05-02 17:43:41.78</td>\n",
       "    </tr>\n",
       "    <tr>\n",
       "      <th>197621</th>\n",
       "      <td>186456690</td>\n",
       "      <td>10471</td>\n",
       "      <td>2021-05-02 17:40:10.625</td>\n",
       "    </tr>\n",
       "    <tr>\n",
       "      <th>197622</th>\n",
       "      <td>186456690</td>\n",
       "      <td>5382</td>\n",
       "      <td>2021-05-02 17:40:50.001</td>\n",
       "    </tr>\n",
       "    <tr>\n",
       "      <th>197623</th>\n",
       "      <td>186479748</td>\n",
       "      <td>25357</td>\n",
       "      <td>2020-11-27 20:08:37.262</td>\n",
       "    </tr>\n",
       "  </tbody>\n",
       "</table>\n",
       "<p>197624 rows × 3 columns</p>\n",
       "</div>"
      ],
      "text/plain": [
       "        session_id  item_id                     date\n",
       "0              126     9655  2020-12-18 21:25:00.373\n",
       "1              126     9655  2020-12-18 21:19:48.093\n",
       "2             3234    13214  2020-09-20 20:10:42.039\n",
       "3             3234    13214  2020-09-20 20:11:53.966\n",
       "4             3234     3173  2020-09-20 20:06:13.217\n",
       "...            ...      ...                      ...\n",
       "197619   186456690    10471  2021-05-02 17:41:18.737\n",
       "197620   186456690    13385   2021-05-02 17:43:41.78\n",
       "197621   186456690    10471  2021-05-02 17:40:10.625\n",
       "197622   186456690     5382  2021-05-02 17:40:50.001\n",
       "197623   186479748    25357  2020-11-27 20:08:37.262\n",
       "\n",
       "[197624 rows x 3 columns]"
      ]
     },
     "execution_count": 3,
     "metadata": {},
     "output_type": "execute_result"
    }
   ],
   "source": [
    "test_df"
   ]
  },
  {
   "cell_type": "code",
   "execution_count": 6,
   "id": "c07ccb59",
   "metadata": {},
   "outputs": [
    {
     "data": {
      "text/plain": [
       "50000"
      ]
     },
     "execution_count": 6,
     "metadata": {},
     "output_type": "execute_result"
    }
   ],
   "source": [
    "len(test_df.session_id.unique())"
   ]
  },
  {
   "cell_type": "code",
   "execution_count": null,
   "id": "66a447f9",
   "metadata": {},
   "outputs": [],
   "source": []
  }
 ],
 "metadata": {
  "kernelspec": {
   "display_name": "Python 3 (ipykernel)",
   "language": "python",
   "name": "python3"
  },
  "language_info": {
   "codemirror_mode": {
    "name": "ipython",
    "version": 3
   },
   "file_extension": ".py",
   "mimetype": "text/x-python",
   "name": "python",
   "nbconvert_exporter": "python",
   "pygments_lexer": "ipython3",
   "version": "3.9.10"
  }
 },
 "nbformat": 4,
 "nbformat_minor": 5
}
